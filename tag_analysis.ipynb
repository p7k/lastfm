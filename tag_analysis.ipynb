{
 "metadata": {
  "name": "",
  "signature": "sha256:b765208d23ae2d0f63cc523a5e8137d92d128f4644c5b26f15413f2305a1e47c"
 },
 "nbformat": 3,
 "nbformat_minor": 0,
 "worksheets": [
  {
   "cells": [
    {
     "cell_type": "code",
     "collapsed": false,
     "input": [
      "import json\n",
      "import codecs\n",
      "import math"
     ],
     "language": "python",
     "metadata": {},
     "outputs": [],
     "prompt_number": 1
    },
    {
     "cell_type": "code",
     "collapsed": false,
     "input": [
      "from itertools import islice\n",
      "from operator import itemgetter\n",
      "from itertools import combinations"
     ],
     "language": "python",
     "metadata": {},
     "outputs": [],
     "prompt_number": 2
    },
    {
     "cell_type": "code",
     "collapsed": false,
     "input": [
      "artists = dict()           # id  -> artist \n",
      "tag_artists = dict()       # tag -> {artist}\n",
      "tag_artist_count = dict()  # tag -> artist -> count"
     ],
     "language": "python",
     "metadata": {},
     "outputs": [],
     "prompt_number": 3
    },
    {
     "cell_type": "code",
     "collapsed": false,
     "input": [
      "with codecs.open('data.raw/top_tags.json', 'r', encoding=\"utf-8\") as f:\n",
      "    for artist_id, l in enumerate(islice(f, 1000)):\n",
      "        # decode json\n",
      "        top_tags = json.loads(l)['toptags']\n",
      "        # artists (documents)\n",
      "        artists[artist_id] = top_tags['@attr']['artist']\n",
      "        # tag name and count\n",
      "        for raw_tag in top_tags['tag']:\n",
      "            tag = raw_tag['name'].lower()\n",
      "            count = int(raw_tag['count'])\n",
      "            tag_artists.setdefault(tag, set()).add(artist_id)\n",
      "            tag_artist_count.setdefault(tag, dict())[artist_id] = count"
     ],
     "language": "python",
     "metadata": {},
     "outputs": [],
     "prompt_number": 4
    },
    {
     "cell_type": "heading",
     "level": 5,
     "metadata": {},
     "source": [
      "local tag (term) weight"
     ]
    },
    {
     "cell_type": "code",
     "collapsed": false,
     "input": [
      "# looks like they've already normalized local weights 'count' is always between 0-100"
     ],
     "language": "python",
     "metadata": {},
     "outputs": [],
     "prompt_number": 5
    },
    {
     "cell_type": "heading",
     "level": 5,
     "metadata": {},
     "source": [
      "global tag (term) weight (inverse document frequency)"
     ]
    },
    {
     "cell_type": "code",
     "collapsed": false,
     "input": [
      "def idf(docs, docs_with_term):\n",
      "    return math.log(float(docs) / docs_with_term)"
     ],
     "language": "python",
     "metadata": {},
     "outputs": [],
     "prompt_number": 6
    },
    {
     "cell_type": "code",
     "collapsed": false,
     "input": [
      "docs = len(artists)\n",
      "idfs = dict((tag, idf(docs, len(artists))) for tag, artists in tag_artists.iteritems())"
     ],
     "language": "python",
     "metadata": {},
     "outputs": [],
     "prompt_number": 7
    },
    {
     "cell_type": "code",
     "collapsed": false,
     "input": [
      "# test : look at most generic tags  :: makes sense, it's all 'alternative pop indie rock'\n",
      "sorted(idfs.iteritems(), key=itemgetter(1))[:5]"
     ],
     "language": "python",
     "metadata": {},
     "outputs": [
      {
       "metadata": {},
       "output_type": "pyout",
       "prompt_number": 10,
       "text": [
        "[(u'alternative', 0.12570639979203083),\n",
        " (u'pop', 0.13732093221272387),\n",
        " (u'indie', 0.1693711532191709),\n",
        " (u'rock', 0.19999203917549946),\n",
        " (u'electronic', 0.2802420651870855)]"
       ]
      }
     ],
     "prompt_number": 10
    },
    {
     "cell_type": "code",
     "collapsed": false,
     "input": [
      "# test : look at least generic tags  :: hrrm, 'epic music'\n",
      "sorted(idfs.iteritems(), key=itemgetter(1), reverse=True)[:5]"
     ],
     "language": "python",
     "metadata": {},
     "outputs": [
      {
       "metadata": {},
       "output_type": "pyout",
       "prompt_number": 12,
       "text": [
        "[(u'epic music', 6.889591308354466),\n",
        " (u'eagle tunes', 6.889591308354466),\n",
        " (u'jihad', 6.889591308354466),\n",
        " (u'african rap', 6.889591308354466),\n",
        " (u'sonar radio', 6.889591308354466)]"
       ]
      }
     ],
     "prompt_number": 12
    },
    {
     "cell_type": "heading",
     "level": 5,
     "metadata": {},
     "source": [
      "dice similarities"
     ]
    },
    {
     "cell_type": "code",
     "collapsed": false,
     "input": [
      "dice_similarities = dict()\n",
      "for t1, t2 in combinations(tag_artists.iterkeys(), 1000), 2):\n",
      "    T1, T2 = tag_artists[t1], tag_artists[t2]\n",
      "    dice_similarities[(t1,t2)] = 2. * len(T1 & T2) / (len(T1) + len(T2)) "
     ],
     "language": "python",
     "metadata": {},
     "outputs": [],
     "prompt_number": 11
    },
    {
     "cell_type": "code",
     "collapsed": false,
     "input": [
      "most_similar = sorted(dice_similarities.iteritems(), key=itemgetter(1))"
     ],
     "language": "python",
     "metadata": {},
     "outputs": [],
     "prompt_number": 12
    },
    {
     "cell_type": "code",
     "collapsed": false,
     "input": [
      "most_similar[:5]"
     ],
     "language": "python",
     "metadata": {},
     "outputs": [
      {
       "metadata": {},
       "output_type": "pyout",
       "prompt_number": 52,
       "text": [
        "[((u'artist: zedd', u'rnb-soul'), 0.0),\n",
        " ((u'woman you know you woman- shut the fuck up', u'geohash:u1z7hksb05tz'),\n",
        "  0.0),\n",
        " ((u'ratatat', u'crabcore'), 0.0),\n",
        " ((u'progresive rock', u'cmj 2012'), 0.0),\n",
        " ((u'west virginia', u'woodstock'), 0.0)]"
       ]
      }
     ],
     "prompt_number": 52
    }
   ],
   "metadata": {}
  }
 ]
}