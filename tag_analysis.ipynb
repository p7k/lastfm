{
 "metadata": {
  "name": "",
  "signature": "sha256:5c6b4f139695f9e9cdbe3c4e511eca2afb38baa1170d4f0790a2de3e5377068e"
 },
 "nbformat": 3,
 "nbformat_minor": 0,
 "worksheets": [
  {
   "cells": [
    {
     "cell_type": "code",
     "collapsed": false,
     "input": [
      "import json\n",
      "import codecs\n",
      "import math\n",
      "import string"
     ],
     "language": "python",
     "metadata": {},
     "outputs": [],
     "prompt_number": 1
    },
    {
     "cell_type": "code",
     "collapsed": false,
     "input": [
      "from itertools import islice, izip, repeat\n",
      "from operator import itemgetter\n",
      "from collections import OrderedDict"
     ],
     "language": "python",
     "metadata": {},
     "outputs": [],
     "prompt_number": 2
    },
    {
     "cell_type": "code",
     "collapsed": false,
     "input": [
      "def normalize_tag_term(tag, exclude=dict.fromkeys(map(ord, string.punctuation))):\n",
      "    \"\"\"a little naive in stripping all punctuation.\n",
      "    stemming would deal with sementically identical syntax variations: electronic, electronica, electro\"\"\"\n",
      "    tag = tag.strip().lower()\n",
      "#     tag = tag.translate(exclude)\n",
      "    return tag"
     ],
     "language": "python",
     "metadata": {},
     "outputs": [],
     "prompt_number": 3
    },
    {
     "cell_type": "code",
     "collapsed": false,
     "input": [
      "def load_tags_data(tags_file, encoding='utf-8'):\n",
      "    artist_artist_id = OrderedDict()  # artists -> artist_id\n",
      "    tag_tag_id = OrderedDict()        # tags -> artist_id\n",
      "    artist_tags = dict()       # artist_id -> {tag}\n",
      "    tag_artists = dict()       # tag -> {artist_id}\n",
      "    tag_artist_count = dict()  # tag -> artist_id -> count\n",
      "    \n",
      "    # load data\n",
      "    with codecs.open(tags_file, 'r') as f:\n",
      "        for line in f:\n",
      "            # decode json\n",
      "            top_tags = json.loads(line)['toptags']\n",
      "            # artists (documents) store only unique artists\n",
      "            artist = top_tags['@attr']['artist']\n",
      "            artist_id = artist_artist_id.setdefault(artist, len(artist_artist_id))\n",
      "            # tag name and count (terms and frequency)\n",
      "            for raw_tag in top_tags['tag']:\n",
      "                tag = normalize_tag_term(raw_tag['name'])\n",
      "                # skip empty tags\n",
      "                if not tag:\n",
      "                    print 'warning: skipping empty tag [raw: \"{}\"]'.format(raw_tag['name'])\n",
      "                    continue\n",
      "                # store only unique tags\n",
      "                tag_id = tag_tag_id.setdefault(tag, len(tag_tag_id))\n",
      "                # store tag counts for each artist\n",
      "                count = int(raw_tag['count'])\n",
      "                tag_artist_count.setdefault(tag_id, dict())[artist_id] = count\n",
      "                # store artist tag sets\n",
      "                artist_tags.setdefault(artist_id, set()).add(tag_id)\n",
      "                # store tag artist sets\n",
      "                tag_artists.setdefault(tag_id, set()).add(artist_id)\n",
      "                                \n",
      "    return (artist_artist_id, tag_tag_id,\n",
      "            artist_tags, tag_artists, tag_artist_count)"
     ],
     "language": "python",
     "metadata": {},
     "outputs": [],
     "prompt_number": 4
    },
    {
     "cell_type": "code",
     "collapsed": false,
     "input": [
      "artist_artist_id, tag_tag_id, artist_tags, tag_artists, tag_artist_count = load_tags_data('data.raw/top_tags.json')"
     ],
     "language": "python",
     "metadata": {},
     "outputs": [],
     "prompt_number": 5
    },
    {
     "cell_type": "code",
     "collapsed": false,
     "input": [
      "artist_names = tuple(artist_artist_id.iterkeys())\n",
      "tag_names = tuple(tag_tag_id.iterkeys())"
     ],
     "language": "python",
     "metadata": {},
     "outputs": [],
     "prompt_number": 6
    },
    {
     "cell_type": "heading",
     "level": 5,
     "metadata": {},
     "source": [
      "local tag (term) weight [ normalized term frequency ]"
     ]
    },
    {
     "cell_type": "code",
     "collapsed": false,
     "input": [
      "# looks like they've already normalized local weights 'count' is always between 0-100\n",
      "# zero-based nature of that normalization may cause issues with rest of the analysis\n",
      "# might be worth experinenting and normalizing it further with logrithms \n",
      "def build_local_tag_weights(tag_artist_count):\n",
      "    ret = dict()\n",
      "    for tag, artist_count in tag_artist_count.iteritems():\n",
      "        for artist, count in artist_count.iteritems():\n",
      "            ret.setdefault(tag, dict())[artist] = (math.lgamma(count + 1) + .1)\n",
      "#             ret.setdefault(tag, dict())[artist] = count + 1\n",
      "    return ret"
     ],
     "language": "python",
     "metadata": {},
     "outputs": [],
     "prompt_number": 7
    },
    {
     "cell_type": "code",
     "collapsed": false,
     "input": [
      "local_tag_weights = build_local_tag_weights(tag_artist_count)"
     ],
     "language": "python",
     "metadata": {},
     "outputs": [],
     "prompt_number": 8
    },
    {
     "cell_type": "heading",
     "level": 5,
     "metadata": {},
     "source": [
      "global tag (term) weight (inverse document frequency)"
     ]
    },
    {
     "cell_type": "code",
     "collapsed": false,
     "input": [
      "# penalize generic tags"
     ],
     "language": "python",
     "metadata": {},
     "outputs": [],
     "prompt_number": 9
    },
    {
     "cell_type": "code",
     "collapsed": false,
     "input": [
      "def idf(n_docs, n_docs_with_term):\n",
      "    return math.log(float(n_docs) / n_docs_with_term)"
     ],
     "language": "python",
     "metadata": {},
     "outputs": [],
     "prompt_number": 10
    },
    {
     "cell_type": "code",
     "collapsed": false,
     "input": [
      "def build_global_tag_weights(n_artists, tag_artists):\n",
      "    \"\"\"returns dict tag -> weight\"\"\"\n",
      "    ret = dict()\n",
      "    for tag, artists in tag_artists.iteritems():\n",
      "        ret[tag] = idf(n_artists, len(artists))\n",
      "    return ret"
     ],
     "language": "python",
     "metadata": {},
     "outputs": [],
     "prompt_number": 11
    },
    {
     "cell_type": "code",
     "collapsed": false,
     "input": [
      "global_tag_weights = build_global_tag_weights(len(artist_names), tag_artists)"
     ],
     "language": "python",
     "metadata": {},
     "outputs": [],
     "prompt_number": 12
    },
    {
     "cell_type": "code",
     "collapsed": false,
     "input": [
      "# test : look at most generic tags  :: hrrm, 'epic music'\n",
      "sorted((w, tag_names[t]) for t, w in global_tag_weights.iteritems())[:10]"
     ],
     "language": "python",
     "metadata": {},
     "outputs": [
      {
       "metadata": {},
       "output_type": "pyout",
       "prompt_number": 13,
       "text": [
        "[(0.12903635134311087, u'alternative'),\n",
        " (0.13950765121040629, u'pop'),\n",
        " (0.17401434662618856, u'indie'),\n",
        " (0.19852537764053818, u'rock'),\n",
        " (0.27991307542940747, u'electronic'),\n",
        " (0.33667571612135544, u'00s'),\n",
        " (0.40140418882184936, u'male vocalists'),\n",
        " (0.41209947793859736, u'alternative rock'),\n",
        " (0.452857470410765, u'favorites'),\n",
        " (0.5054147211494411, u'indie rock')]"
       ]
      }
     ],
     "prompt_number": 13
    },
    {
     "cell_type": "heading",
     "level": 5,
     "metadata": {},
     "source": [
      "compensate for document length (artist tag count) differences using cosine normalization"
     ]
    },
    {
     "cell_type": "code",
     "collapsed": false,
     "input": [
      "# used to correct discrepancies in document lengths.\n",
      "# E.g. In case of tagging systems, a resource that has been given more tags,\n",
      "# will be favoured if weights are not normalized.\n",
      "# Since it is not always true that a resource that has been given more number of tags\n",
      "# is more relevant than a resource with lesser number of tags.\n",
      "# Hence, it is useful to normalize the document vectors so that documents are not favoured based on their lengths."
     ],
     "language": "python",
     "metadata": {},
     "outputs": [],
     "prompt_number": 14
    },
    {
     "cell_type": "code",
     "collapsed": false,
     "input": [
      "def cos_norm(global_local_tag_weights):\n",
      "    return 1. / math.sqrt(sum((gtw * ltw)**2 for gtw, ltw in global_local_tag_weights)) "
     ],
     "language": "python",
     "metadata": {},
     "outputs": [],
     "prompt_number": 15
    },
    {
     "cell_type": "code",
     "collapsed": false,
     "input": [
      "def build_normalized_artist_weights(artist_tags, local_tag_weights, global_tag_weights):\n",
      "    \"\"\"returns dict artist_id -> combined_weight\"\"\"\n",
      "    ret = dict()  \n",
      "    for artist_id, tags in artist_tags.iteritems():\n",
      "        gtw_ltw = ((global_tag_weights[tag], local_tag_weights[tag][artist_id]) for tag in tags)\n",
      "        ret[artist_id] = cos_norm(gtw_ltw)\n",
      "    return ret"
     ],
     "language": "python",
     "metadata": {},
     "outputs": [],
     "prompt_number": 16
    },
    {
     "cell_type": "code",
     "collapsed": false,
     "input": [
      "normalized_artist_weights = build_normalized_artist_weights(artist_tags, local_tag_weights, global_tag_weights)"
     ],
     "language": "python",
     "metadata": {},
     "outputs": [],
     "prompt_number": 17
    },
    {
     "cell_type": "code",
     "collapsed": false,
     "input": [
      "# test\n",
      "sorted((w, artist_names[a]) for a, w in normalized_artist_weights.iteritems())[-10:]"
     ],
     "language": "python",
     "metadata": {},
     "outputs": [
      {
       "metadata": {},
       "output_type": "pyout",
       "prompt_number": 18,
       "text": [
        "[(0.0061694970320655025, u'Gwen Stefani'),\n",
        " (0.006280282670576293, u'Cake'),\n",
        " (0.006287820707384008, u'AWOLNATION'),\n",
        " (0.006606855371588887, u'The Shins'),\n",
        " (0.006796220224756829, u'The Postal Service'),\n",
        " (0.006897134105833899, u'Eels'),\n",
        " (0.006983317238795151, u'Beck'),\n",
        " (0.007296683305273195, u'R.E.M.'),\n",
        " (0.007403524693628558, u'Death Cab for Cutie'),\n",
        " (0.00801223221760308, u'MKTO')]"
       ]
      }
     ],
     "prompt_number": 18
    },
    {
     "cell_type": "heading",
     "level": 5,
     "metadata": {},
     "source": [
      "combined weights (artists and tags)"
     ]
    },
    {
     "cell_type": "code",
     "collapsed": false,
     "input": [
      "def combined_weight(local_tag_weight, global_tag_weight, normalized_artist_weight):\n",
      "    return local_tag_weight * global_tag_weight * normalized_artist_weight"
     ],
     "language": "python",
     "metadata": {},
     "outputs": [],
     "prompt_number": 19
    },
    {
     "cell_type": "code",
     "collapsed": false,
     "input": [
      "def build_combined_weights(tag_artists, local_tag_weights, global_tag_weights, normalized_artist_weights):\n",
      "    \"\"\"return dict tag -> artist -> weight\"\"\"\n",
      "    ret = dict()\n",
      "    for tag, artists in tag_artists.iteritems():\n",
      "        for artist in artists:\n",
      "            weight = combined_weight(local_tag_weights[tag][artist],\n",
      "                                     global_tag_weights[tag],\n",
      "                                     normalized_artist_weights[artist])\n",
      "            weight = int(weight * 1e3)\n",
      "            if weight:\n",
      "                ret.setdefault(tag, dict())[artist] = weight\n",
      "    return ret"
     ],
     "language": "python",
     "metadata": {},
     "outputs": [],
     "prompt_number": 20
    },
    {
     "cell_type": "code",
     "collapsed": false,
     "input": [
      "combined_weights = build_combined_weights(tag_artists, local_tag_weights, global_tag_weights, normalized_artist_weights)"
     ],
     "language": "python",
     "metadata": {},
     "outputs": [],
     "prompt_number": 21
    },
    {
     "cell_type": "heading",
     "level": 5,
     "metadata": {},
     "source": [
      "dice similarities"
     ]
    },
    {
     "cell_type": "code",
     "collapsed": false,
     "input": [
      "def build_weighted_dice_similarities(tag_artists, combined_weights):\n",
      "    n_tags = len(tag_names)\n",
      "    tag_artists = tuple(artists for _, artists in sorted(tag_artists.iteritems()))\n",
      "    empty_dict = {}\n",
      "    \n",
      "    ret = dict()\n",
      "\n",
      "    # weighted dice similarity calc\n",
      "    for tag_i in xrange(n_tags):\n",
      "        artists_i = tag_artists[tag_i]\n",
      "        for tag_j in xrange(tag_i + 1, n_tags):\n",
      "            artists_j = tag_artists[tag_j]\n",
      "            common_artists = artists_i & artists_j\n",
      "            if not common_artists:\n",
      "                continue\n",
      "            # calc sum of element-wise multiplication of weights for tag_i tag_j for common artists\n",
      "            sum_common = 0\n",
      "            for common_artist in common_artists:\n",
      "                sum_common += combined_weights.get(tag_i, empty_dict).get(common_artist, 0) * \\\n",
      "                                combined_weights.get(tag_j, empty_dict).get(common_artist, 0)\n",
      "            if not sum_common:\n",
      "                continue\n",
      "            # calc weight sums for tag_i and tag_j across all artists\n",
      "            sum_i = sum(combined_weights[tag_i].itervalues())\n",
      "            sum_j = sum(combined_weights[tag_j].itervalues())\n",
      "            similarity = sum_common // (sum_i + sum_j)\n",
      "            if not similarity:\n",
      "                continue\n",
      "            ret.setdefault(tag_i, dict())[tag_j] = similarity\n",
      "    return ret"
     ],
     "language": "python",
     "metadata": {},
     "outputs": [],
     "prompt_number": 22
    },
    {
     "cell_type": "code",
     "collapsed": false,
     "input": [
      "weighted_dice_similarities = build_weighted_dice_similarities(tag_artists, combined_weights)"
     ],
     "language": "python",
     "metadata": {},
     "outputs": [],
     "prompt_number": 23
    },
    {
     "cell_type": "code",
     "collapsed": false,
     "input": [
      "len(weighted_dice_similarities)"
     ],
     "language": "python",
     "metadata": {},
     "outputs": [
      {
       "metadata": {},
       "output_type": "pyout",
       "prompt_number": 24,
       "text": [
        "3489"
       ]
      }
     ],
     "prompt_number": 24
    },
    {
     "cell_type": "code",
     "collapsed": false,
     "input": [
      "tag_i = 0 #10090\n",
      "print 'for \"{}\":'.format(tag_names[tag_i])\n",
      "for tag_j, weight in sorted(weighted_dice_similarities[tag_i].iteritems(), key=itemgetter(1), reverse=True):\n",
      "    print ' ', tag_names[tag_j], tag_j, weight"
     ],
     "language": "python",
     "metadata": {},
     "outputs": [
      {
       "output_type": "stream",
       "stream": "stdout",
       "text": [
        "for \"rock\":\n",
        "  alternative rock 3 96\n",
        "  indie rock 8 60\n",
        "  classic rock 28 52\n",
        "  alternative 1 47\n",
        "  hard rock 68 45\n",
        "  indie 4 35\n",
        "  britpop 2 34\n",
        "  80s 73 29\n",
        "  grunge 83 28\n",
        "  post-grunge 895 28\n",
        "  90s 31 26\n",
        "  british 5 24\n",
        "  garage rock 164 23\n",
        "  singer-songwriter 22 22\n",
        "  punk rock 61 21\n",
        "  emo 24 20\n",
        "  pop rock 9 19\n",
        "  progressive rock 38 19\n",
        "  punk 41 17\n",
        "  female vocalists 59 17\n",
        "  70s 782 16\n",
        "  pop punk 860 16\n",
        "  blues 96 14\n",
        "  american 209 14\n",
        "  canadian 147 13\n",
        "  60s 783 13\n",
        "  pop 7 12\n",
        "  alternative metal 776 12\n",
        "  blues rock 415 12\n",
        "  new wave 90 11\n",
        "  funk 203 11\n",
        "  nu metal 775 11\n",
        "  indie pop 21 10\n",
        "  metal 58 10\n",
        "  folk 64 10\n",
        "  australian 361 10\n",
        "  post-punk 165 9\n",
        "  psychedelic 171 9\n",
        "  soft rock 12 8\n",
        "  folk rock 108 8\n",
        "  psychedelic rock 169 8\n",
        "  ska 190 8\n",
        "  christian rock 2107 8\n",
        "  irish 396 8\n",
        "  glam rock 1016 8\n",
        "  acoustic 20 7\n",
        "  proto-punk 1067 7\n",
        "  southern rock 1795 7\n",
        "  scottish 274 7\n",
        "  train 6070 7\n",
        "  experimental 86 6\n",
        "  lifehouse 11477 6\n",
        "  counting crows 8901 6\n",
        "  heavy metal 769 6\n",
        "  3 doors down 3965 6\n",
        "  electronic 29 5\n",
        "  comedy 613 5\n",
        "  hair metal 1214 5\n",
        "  cake 9846 5\n",
        "  alt-country 1154 5\n",
        "  american idol 4511 5\n",
        "  incubus 5069 5\n",
        "  funk rock 537 4\n",
        "  christian 1571 4\n",
        "  aor 2602 4\n",
        "  guitar 107 4\n",
        "  stoner rock 176 4\n",
        "  shoegaze 1265 4\n",
        "  weezer 2852 4\n",
        "  jack white 1901 4\n",
        "  goo goo dolls 8636 4\n",
        "  matchbox twenty 8644 4\n",
        "  rem 3025 4\n",
        "  piano rock 10 3\n",
        "  piano 16 3\n",
        "  pop-rock 30 3\n",
        "  power pop 545 3\n",
        "  swedish 1075 3\n",
        "  acoustic rock 130 3\n",
        "  rapcore 767 3\n",
        "  hoobastank 12099 3\n",
        "  radiohead 339 3\n",
        "  progressive 342 3\n",
        "  german 2939 3\n",
        "  maroon 5 536 2\n",
        "  california 539 2\n",
        "  oldies 551 2\n",
        "  hip-hop 72 2\n",
        "  jazz 76 2\n",
        "  soul 102 2\n",
        "  political 617 2\n",
        "  the killers 662 2\n",
        "  welsh 1177 2\n",
        "  finnish 4301 2\n",
        "  garbage 3797 2\n",
        "  americana 224 2\n",
        "  college rock 768 2\n",
        "  jam 2315 2\n",
        "  geek rock 2853 2\n",
        "  screamo 865 2\n",
        "  sting 5500 2\n",
        "  rock and roll 907 2\n",
        "  third eye blind 13206 2\n",
        "  beck 2725 2\n",
        "  coldplay 6 1\n",
        "  uk 11 1\n",
        "  rock n roll 1026 1\n",
        "  male vocalists 15 1\n",
        "  latin 530 1\n",
        "  rockabilly 3112 1\n",
        "  country 1080 1\n",
        "  electronica 57 1\n",
        "  band 67 1\n",
        "  dance 78 1\n",
        "  post-rock 79 1\n",
        "  reggae 615 1\n",
        "  lenny kravitz 7272 1\n",
        "  indie-pop 632 1\n",
        "  bruce springsteen 3604 1\n",
        "  audioslave 6411 1\n",
        "  mike patton 8299 1\n",
        "  madchester 1672 1\n",
        "  10s 141 1\n",
        "  gothic rock 1678 1\n",
        "  u2 663 1\n",
        "  post-punk revival 166 1\n",
        "  the beatles 1395 1\n",
        "  james blunt 5812 1\n",
        "  industrial metal 1720 1\n",
        "  folk punk 8900 1\n",
        "  dance punk 199 1\n",
        "  neo-psychedelia 714 1\n",
        "  dream pop 214 1\n",
        "  female vocalist 216 1\n",
        "  trip-hop 217 1\n",
        "  new york 220 1\n",
        "  female 222 1\n",
        "  bryan adams 8931 1\n",
        "  toto 8940 1\n",
        "  kelly clarkson 1773 1\n",
        "  staind 12526 1\n",
        "  funk metal 758 1\n",
        "  rap rock 763 1\n",
        "  eels 8457 1\n",
        "  electropop 276 1\n",
        "  british invasion 797 1\n",
        "  progressive metal 802 1\n",
        "  muse 812 1\n",
        "  heartland rock 1327 1\n",
        "  snow patrol 4659 1\n",
        "  jangle pop 1849 1\n",
        "  jimmy eat world 6971 1\n",
        "  placebo 3403 1\n",
        "  pixies 3128 1\n",
        "  art rock 340 1\n",
        "  experimental rock 341 1\n",
        "  boston 3129 1\n",
        "  jecks 570 1\n",
        "  tom petty 12644 1\n",
        "  industrial 358 1\n",
        "  nickelback 3952 1\n",
        "  post-hardcore 881 1\n",
        "  lo-fi 371 1\n",
        "  creed 3959 1\n",
        "  foo fighters 896 1\n",
        "  nu-metal 914 1\n",
        "  groovy 580 1\n",
        "  jeff buckley 9129 1\n",
        "  crossover 428 1\n",
        "  south african 7607 1\n",
        "  acid house 1977 1\n",
        "  ok go 10828 1\n",
        "  the strokes 1614 1\n",
        "  noise rock 1002 1\n",
        "  ben harper 14321 1\n"
       ]
      }
     ],
     "prompt_number": 25
    },
    {
     "cell_type": "heading",
     "level": 4,
     "metadata": {},
     "source": [
      "persist to disk"
     ]
    },
    {
     "cell_type": "code",
     "collapsed": false,
     "input": [
      "with open('data.proc/tag_similarities.csv', 'w') as f:\n",
      "    for tag_i, tag_j_similarity in weighted_dice_similarities.iteritems():\n",
      "        for tag_j, similarity in tag_j_similarity.iteritems():\n",
      "            f.write(\",\".join(map(str, (tag_i, tag_j, similarity))))\n",
      "            f.write('\\n')"
     ],
     "language": "python",
     "metadata": {},
     "outputs": [
      {
       "ename": "IOError",
       "evalue": "[Errno 2] No such file or directory: 'data.proc/tag_similarities.csv'",
       "output_type": "pyerr",
       "traceback": [
        "\u001b[0;31m---------------------------------------------------------------------------\u001b[0m\n\u001b[0;31mIOError\u001b[0m                                   Traceback (most recent call last)",
        "\u001b[0;32m<ipython-input-26-57310089959c>\u001b[0m in \u001b[0;36m<module>\u001b[0;34m()\u001b[0m\n\u001b[0;32m----> 1\u001b[0;31m \u001b[0;32mwith\u001b[0m \u001b[0mopen\u001b[0m\u001b[0;34m(\u001b[0m\u001b[0;34m'data.proc/tag_similarities.csv'\u001b[0m\u001b[0;34m,\u001b[0m \u001b[0;34m'w'\u001b[0m\u001b[0;34m)\u001b[0m \u001b[0;32mas\u001b[0m \u001b[0mf\u001b[0m\u001b[0;34m:\u001b[0m\u001b[0;34m\u001b[0m\u001b[0m\n\u001b[0m\u001b[1;32m      2\u001b[0m     \u001b[0;32mfor\u001b[0m \u001b[0mtag_i\u001b[0m\u001b[0;34m,\u001b[0m \u001b[0mtag_j_similarity\u001b[0m \u001b[0;32min\u001b[0m \u001b[0mweighted_dice_similarities\u001b[0m\u001b[0;34m.\u001b[0m\u001b[0miteritems\u001b[0m\u001b[0;34m(\u001b[0m\u001b[0;34m)\u001b[0m\u001b[0;34m:\u001b[0m\u001b[0;34m\u001b[0m\u001b[0m\n\u001b[1;32m      3\u001b[0m         \u001b[0;32mfor\u001b[0m \u001b[0mtag_j\u001b[0m\u001b[0;34m,\u001b[0m \u001b[0msimilarity\u001b[0m \u001b[0;32min\u001b[0m \u001b[0mtag_j_similarity\u001b[0m\u001b[0;34m.\u001b[0m\u001b[0miteritems\u001b[0m\u001b[0;34m(\u001b[0m\u001b[0;34m)\u001b[0m\u001b[0;34m:\u001b[0m\u001b[0;34m\u001b[0m\u001b[0m\n\u001b[1;32m      4\u001b[0m             \u001b[0mf\u001b[0m\u001b[0;34m.\u001b[0m\u001b[0mwrite\u001b[0m\u001b[0;34m(\u001b[0m\u001b[0;34m\",\"\u001b[0m\u001b[0;34m.\u001b[0m\u001b[0mjoin\u001b[0m\u001b[0;34m(\u001b[0m\u001b[0mmap\u001b[0m\u001b[0;34m(\u001b[0m\u001b[0mstr\u001b[0m\u001b[0;34m,\u001b[0m \u001b[0;34m(\u001b[0m\u001b[0mtag_i\u001b[0m\u001b[0;34m,\u001b[0m \u001b[0mtag_j\u001b[0m\u001b[0;34m,\u001b[0m \u001b[0msimilarity\u001b[0m\u001b[0;34m)\u001b[0m\u001b[0;34m)\u001b[0m\u001b[0;34m)\u001b[0m\u001b[0;34m)\u001b[0m\u001b[0;34m\u001b[0m\u001b[0m\n\u001b[1;32m      5\u001b[0m             \u001b[0mf\u001b[0m\u001b[0;34m.\u001b[0m\u001b[0mwrite\u001b[0m\u001b[0;34m(\u001b[0m\u001b[0;34m'\\n'\u001b[0m\u001b[0;34m)\u001b[0m\u001b[0;34m\u001b[0m\u001b[0m\n",
        "\u001b[0;31mIOError\u001b[0m: [Errno 2] No such file or directory: 'data.proc/tag_similarities.csv'"
       ]
      }
     ],
     "prompt_number": 26
    },
    {
     "cell_type": "code",
     "collapsed": false,
     "input": [
      "with codecs.open('data.proc/artists', 'w', encoding='utf-8') as f:\n",
      "    for artist_name in artist_names:\n",
      "        f.write(artist_name)\n",
      "        f.write('\\n')"
     ],
     "language": "python",
     "metadata": {},
     "outputs": [],
     "prompt_number": 112
    },
    {
     "cell_type": "code",
     "collapsed": false,
     "input": [
      "with codecs.open('data.proc/tags', 'w', encoding='utf-8') as f:\n",
      "    for tag_name in tag_names:\n",
      "        f.write(tag_name)\n",
      "        f.write('\\n')"
     ],
     "language": "python",
     "metadata": {},
     "outputs": [],
     "prompt_number": 113
    },
    {
     "cell_type": "code",
     "collapsed": false,
     "input": [],
     "language": "python",
     "metadata": {},
     "outputs": []
    }
   ],
   "metadata": {}
  }
 ]
}