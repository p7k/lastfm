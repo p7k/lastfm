{
 "metadata": {
  "name": "",
  "signature": "sha256:62840a7d3680b953a6c7b4db43c6de6d83f5ab1c2874f6869f8d666aedde8045"
 },
 "nbformat": 3,
 "nbformat_minor": 0,
 "worksheets": [
  {
   "cells": [
    {
     "cell_type": "code",
     "collapsed": false,
     "input": [
      "import json\n",
      "import codecs\n",
      "import math\n",
      "import string"
     ],
     "language": "python",
     "metadata": {},
     "outputs": [],
     "prompt_number": 1
    },
    {
     "cell_type": "code",
     "collapsed": false,
     "input": [
      "import numpy as np"
     ],
     "language": "python",
     "metadata": {},
     "outputs": [],
     "prompt_number": 30
    },
    {
     "cell_type": "code",
     "collapsed": false,
     "input": [
      "from itertools import islice, combinations\n",
      "from operator import itemgetter\n",
      "from collections import OrderedDict"
     ],
     "language": "python",
     "metadata": {},
     "outputs": [],
     "prompt_number": 2
    },
    {
     "cell_type": "code",
     "collapsed": false,
     "input": [
      "def normalize_tag_term(tag, exclude=dict.fromkeys(map(ord, string.punctuation))):\n",
      "    \"\"\"a little naive in stripping all punctuation.\n",
      "    stemming would deal with sementically identical syntax variations: electronic, electronica, electro\"\"\"\n",
      "    tag = tag.strip().lower()\n",
      "#     tag = tag.translate(exclude)\n",
      "    return tag"
     ],
     "language": "python",
     "metadata": {},
     "outputs": [],
     "prompt_number": 3
    },
    {
     "cell_type": "code",
     "collapsed": false,
     "input": [
      "def load_tags_data(tags_file, encoding='utf-8'):\n",
      "    # temp data structures\n",
      "    artist_artist_id = OrderedDict()  # artists -> artist_id\n",
      "    tag_tag_id = OrderedDict()        # tags -> artist_id\n",
      "    # returned data structures\n",
      "    artist_tags = dict()       # artist_id -> {tag}\n",
      "    tag_artists = dict()       # tag -> {artist_id}\n",
      "    tag_artist_count = dict()  # tag -> artist_id -> count\n",
      "    \n",
      "    # load data\n",
      "    with codecs.open(tags_file, 'r') as f:\n",
      "        for line in f:\n",
      "            # decode json\n",
      "            top_tags = json.loads(line)['toptags']\n",
      "            # artists (documents) store only unique artists\n",
      "            artist = top_tags['@attr']['artist']\n",
      "            artist_id = artist_artist_id.setdefault(artist, len(artist_artist_id))\n",
      "            # tag name and count (terms and frequency)\n",
      "            for raw_tag in top_tags['tag']:\n",
      "                tag = normalize_tag_term(raw_tag['name'])\n",
      "                # skip empty tags\n",
      "                if not tag:\n",
      "                    print 'warning: skipping empty tag [raw: \"{}\"]'.format(raw_tag['name'])\n",
      "                    continue\n",
      "                # store only unique tags\n",
      "                tag_id = tag_tag_id.setdefault(tag, len(tag_tag_id))\n",
      "                # store tag counts for each artist\n",
      "                count = int(raw_tag['count'])\n",
      "                tag_artist_count.setdefault(tag_id, dict())[artist_id] = count\n",
      "                # store artist tag sets\n",
      "                artist_tags.setdefault(artist_id, set()).add(tag_id)\n",
      "                # store tag artist sets\n",
      "                tag_artists.setdefault(tag_id, set()).add(artist_id)\n",
      "                \n",
      "    # transform to numpy arrays\n",
      "    artists = \n",
      "    \n",
      "    \n",
      "    return (tuple(artist_artist_id.iterkeys()), tuple(tag_tag_id.iterkeys()),\n",
      "            artist_tags, tag_artists, tag_artist_count)"
     ],
     "language": "python",
     "metadata": {},
     "outputs": [],
     "prompt_number": 4
    },
    {
     "cell_type": "code",
     "collapsed": false,
     "input": [
      "artists, tags, artist_tags, tag_artists, tag_artist_count = load_tags_data('data.raw/top_tags.json')"
     ],
     "language": "python",
     "metadata": {},
     "outputs": [],
     "prompt_number": 5
    },
    {
     "cell_type": "heading",
     "level": 5,
     "metadata": {},
     "source": [
      "local tag (term) weight [ normalized term frequency ]"
     ]
    },
    {
     "cell_type": "code",
     "collapsed": false,
     "input": [
      "# looks like they've already normalized local weights 'count' is always between 0-100\n",
      "# zero-based nature of that normalization may cause issues with rest of the analysis\n",
      "# might be worth experinenting and normalizing it further with logrithms \n",
      "def build_local_tag_weights(tag_artist_count):\n",
      "    ret = dict()\n",
      "    for tag, artist_count in tag_artist_count.iteritems():\n",
      "        for artist, count in artist_count.iteritems():\n",
      "#             ret.setdefault(tag, dict())[artist] = (math.lgamma(count + 1) + .1) / 100\n",
      "            ret.setdefault(tag, dict())[artist] = count + 1\n",
      "    return ret"
     ],
     "language": "python",
     "metadata": {},
     "outputs": [],
     "prompt_number": 6
    },
    {
     "cell_type": "code",
     "collapsed": false,
     "input": [
      "local_tag_weights = build_local_tag_weights(tag_artist_count)"
     ],
     "language": "python",
     "metadata": {},
     "outputs": [],
     "prompt_number": 7
    },
    {
     "cell_type": "heading",
     "level": 5,
     "metadata": {},
     "source": [
      "global tag (term) weight (inverse document frequency)"
     ]
    },
    {
     "cell_type": "code",
     "collapsed": false,
     "input": [
      "# penalize generic tags"
     ],
     "language": "python",
     "metadata": {},
     "outputs": [],
     "prompt_number": 8
    },
    {
     "cell_type": "code",
     "collapsed": false,
     "input": [
      "def idf(n_docs, n_docs_with_term):\n",
      "    return math.log(float(n_docs) / n_docs_with_term)"
     ],
     "language": "python",
     "metadata": {},
     "outputs": [],
     "prompt_number": 9
    },
    {
     "cell_type": "code",
     "collapsed": false,
     "input": [
      "def build_global_tag_weights(artists, tag_artists):\n",
      "    \"\"\"returns dict tag -> weight\"\"\"\n",
      "    ret = dict()\n",
      "    n_artists = len(artists)\n",
      "    for tag, artists in tag_artists.iteritems():\n",
      "        ret[tag] = idf(n_artists, len(artists))\n",
      "    return ret"
     ],
     "language": "python",
     "metadata": {},
     "outputs": [],
     "prompt_number": 10
    },
    {
     "cell_type": "code",
     "collapsed": false,
     "input": [
      "global_tag_weights = build_global_tag_weights(artists, tag_artists)"
     ],
     "language": "python",
     "metadata": {},
     "outputs": [],
     "prompt_number": 11
    },
    {
     "cell_type": "code",
     "collapsed": false,
     "input": [
      "# test : look at most generic tags  :: hrrm, 'epic music'\n",
      "global_tag_weights_joined = ((w, tags[t]) for t, w in global_tag_weights.iteritems())\n",
      "sorted(global_tag_weights_joined)[:10]"
     ],
     "language": "python",
     "metadata": {},
     "outputs": [
      {
       "metadata": {},
       "output_type": "pyout",
       "prompt_number": 12,
       "text": [
        "[(0.12570639979203083, u'alternative'),\n",
        " (0.13732093221272387, u'pop'),\n",
        " (0.1693711532191709, u'indie'),\n",
        " (0.19999203917549946, u'rock'),\n",
        " (0.2802420651870855, u'electronic'),\n",
        " (0.33281295219642343, u'00s'),\n",
        " (0.4019072898698554, u'male vocalists'),\n",
        " (0.4110816661458967, u'alternative rock'),\n",
        " (0.44864476772154527, u'favorites'),\n",
        " (0.49935064128911616, u'indie rock')]"
       ]
      }
     ],
     "prompt_number": 12
    },
    {
     "cell_type": "heading",
     "level": 5,
     "metadata": {},
     "source": [
      "compensate for document length (artist tag count) differences using cosine normalization"
     ]
    },
    {
     "cell_type": "code",
     "collapsed": false,
     "input": [
      "# used to correct discrepancies in document lengths.\n",
      "# E.g. In case of tagging systems, a resource that has been given more tags,\n",
      "# will be favoured if weights are not normalized.\n",
      "# Since it is not always true that a resource that has been given more number of tags\n",
      "# is more relevant than a resource with lesser number of tags.\n",
      "# Hence, it is useful to normalize the document vectors so that documents are not favoured based on their lengths."
     ],
     "language": "python",
     "metadata": {},
     "outputs": [],
     "prompt_number": 13
    },
    {
     "cell_type": "code",
     "collapsed": false,
     "input": [
      "def cos_norm(global_local_tag_weights):\n",
      "    return 1. / math.sqrt(sum((gtw * ltw)**2 for gtw, ltw in global_local_tag_weights)) "
     ],
     "language": "python",
     "metadata": {},
     "outputs": [],
     "prompt_number": 14
    },
    {
     "cell_type": "code",
     "collapsed": false,
     "input": [
      "def build_normalized_artist_weights(artist_tags, local_tag_weights, global_tag_weights):\n",
      "    \"\"\"returns dict artist_id -> combined_weight\"\"\"\n",
      "    ret = dict()  \n",
      "    for artist_id, tags in artist_tags.iteritems():\n",
      "        gtw_ltw = ((global_tag_weights[tag], local_tag_weights[tag][artist_id]) for tag in tags)\n",
      "        ret[artist_id] = cos_norm(gtw_ltw)\n",
      "    return ret"
     ],
     "language": "python",
     "metadata": {},
     "outputs": [],
     "prompt_number": 15
    },
    {
     "cell_type": "code",
     "collapsed": false,
     "input": [
      "normalized_artist_weights = build_normalized_artist_weights(artist_tags, local_tag_weights, global_tag_weights)"
     ],
     "language": "python",
     "metadata": {},
     "outputs": [],
     "prompt_number": 16
    },
    {
     "cell_type": "code",
     "collapsed": false,
     "input": [
      "# test\n",
      "normalized_artist_weights_joined = ((w, artists[a]) for a, w in normalized_artist_weights.iteritems())\n",
      "sorted(normalized_artist_weights_joined, reverse=1)[:10]"
     ],
     "language": "python",
     "metadata": {},
     "outputs": [
      {
       "metadata": {},
       "output_type": "pyout",
       "prompt_number": 17,
       "text": [
        "[(0.014916077627051903, u'Death Cab for Cutie'),\n",
        " (0.01484267742728197, u'Eels'),\n",
        " (0.01456899279801838, u'The Shins'),\n",
        " (0.013667538570962517, u'The Dandy Warhols'),\n",
        " (0.013595480831199887, u'MKTO'),\n",
        " (0.013538742278555251, u'The Postal Service'),\n",
        " (0.013333138612566629, u'R.E.M.'),\n",
        " (0.013187982416355794, u'Modest Mouse'),\n",
        " (0.012760112430753675, u'Beck'),\n",
        " (0.012718600896758697, u'Gwen Stefani')]"
       ]
      }
     ],
     "prompt_number": 17
    },
    {
     "cell_type": "heading",
     "level": 5,
     "metadata": {},
     "source": [
      "combined weights (artists and tags)"
     ]
    },
    {
     "cell_type": "code",
     "collapsed": false,
     "input": [
      "def combined_weight(local_tag_weight, global_tag_weight, normalized_artist_weight):\n",
      "    return local_tag_weight * global_tag_weight * normalized_artist_weight"
     ],
     "language": "python",
     "metadata": {},
     "outputs": [],
     "prompt_number": 18
    },
    {
     "cell_type": "code",
     "collapsed": false,
     "input": [
      "def build_combined_weights(tag_artists, local_tag_weights, global_tag_weights, normalized_artist_weights):\n",
      "    \"\"\"return dict tag -> artist -> weight\"\"\"\n",
      "    ret = dict()\n",
      "    for tag, artists in tag_artists.iteritems():\n",
      "        for artist in artists:\n",
      "            ret.setdefault(tag, dict())[artist] = combined_weight(local_tag_weights[tag][artist],\n",
      "                                                                  global_tag_weights[tag],\n",
      "                                                                  normalized_artist_weights[artist])\n",
      "    return ret"
     ],
     "language": "python",
     "metadata": {},
     "outputs": [],
     "prompt_number": 19
    },
    {
     "cell_type": "code",
     "collapsed": false,
     "input": [
      "combined_weights = build_combined_weights(tag_artists, local_tag_weights, global_tag_weights, normalized_artist_weights)"
     ],
     "language": "python",
     "metadata": {},
     "outputs": [],
     "prompt_number": 20
    },
    {
     "cell_type": "code",
     "collapsed": false,
     "input": [
      "# test\n",
      "combined_weights.items()[10]"
     ],
     "language": "python",
     "metadata": {},
     "outputs": [
      {
       "metadata": {},
       "output_type": "pyout",
       "prompt_number": 21,
       "text": [
        "(10,\n",
        " {0: 0.07505536583575667,\n",
        "  4: 0.009160229712117942,\n",
        "  6: 0.007041328195910829,\n",
        "  7: 0.02164537982919055,\n",
        "  10: 0.013869257241401601,\n",
        "  11: 0.026512010727453475,\n",
        "  12: 0.027969738190483248,\n",
        "  16: 0.008227427821639792,\n",
        "  17: 0.0071677286861477115,\n",
        "  23: 0.01318884347792112,\n",
        "  27: 0.03126498973190117,\n",
        "  34: 0.07164876486661072,\n",
        "  41: 0.016903253102441076,\n",
        "  44: 0.12867256136834634,\n",
        "  49: 0.018071042795971673,\n",
        "  52: 0.03184586047963896,\n",
        "  54: 0.10641883109694822,\n",
        "  55: 0.03001200747186945,\n",
        "  59: 0.11139672710732854,\n",
        "  65: 0.05294534012564141,\n",
        "  66: 0.01572179998678335,\n",
        "  67: 0.10280876742442939,\n",
        "  72: 0.025095083129098552,\n",
        "  73: 0.09548278536043542,\n",
        "  75: 0.02489275787026691,\n",
        "  76: 0.004003676778473955,\n",
        "  77: 0.024548662611824916,\n",
        "  78: 0.02802850922560013,\n",
        "  80: 0.023681587328991737,\n",
        "  87: 0.06380961895238421,\n",
        "  89: 0.011533491867044806,\n",
        "  93: 0.00394160507571033,\n",
        "  97: 0.0130542555382402,\n",
        "  98: 0.4535526378666587,\n",
        "  101: 0.023885447844917217,\n",
        "  109: 0.02995753880094607,\n",
        "  113: 0.012661435082137565,\n",
        "  117: 0.012963298891825509,\n",
        "  118: 0.01686100812519683,\n",
        "  136: 0.04722035293590065,\n",
        "  153: 0.01727906936697538,\n",
        "  162: 0.015908194793502254,\n",
        "  163: 0.012693062935524435,\n",
        "  172: 0.08918622254295196,\n",
        "  176: 0.008079696336996312,\n",
        "  179: 0.012907728274223285,\n",
        "  181: 0.027696099539392706,\n",
        "  183: 0.012494615147967477,\n",
        "  186: 0.005477018272967384,\n",
        "  188: 0.03574742221523314,\n",
        "  194: 0.035209399288817625,\n",
        "  195: 0.04363936958797068,\n",
        "  197: 0.0591199512171288,\n",
        "  199: 0.008772149899615868,\n",
        "  204: 0.012100568017779766,\n",
        "  210: 0.019007897312949787,\n",
        "  216: 0.015821742034485067,\n",
        "  217: 0.03241080299388857,\n",
        "  220: 0.14350596406627195,\n",
        "  222: 0.8271071449288595,\n",
        "  238: 0.008460574189248548,\n",
        "  245: 0.0249879617100074,\n",
        "  250: 0.010019402126177867,\n",
        "  252: 0.009375143921483949,\n",
        "  258: 0.005168852080655268,\n",
        "  259: 0.027469134071261295,\n",
        "  268: 0.013102578302826951,\n",
        "  269: 0.05788294654282393,\n",
        "  277: 0.06296815554814685,\n",
        "  285: 0.021120960283830884,\n",
        "  287: 0.009941161658016746,\n",
        "  293: 0.05423309059240221,\n",
        "  295: 0.011482945648206573,\n",
        "  296: 0.042323551724431065,\n",
        "  298: 0.007224320234854612,\n",
        "  300: 0.03628021057792859,\n",
        "  303: 0.00427662134440858,\n",
        "  310: 0.4406461061926557,\n",
        "  318: 0.004258915182037084,\n",
        "  320: 0.03710660287644424,\n",
        "  323: 0.01756229412621973,\n",
        "  326: 0.6763466138414219,\n",
        "  330: 0.6752096171870825,\n",
        "  352: 0.050858595531784276,\n",
        "  355: 0.45763393667983066,\n",
        "  356: 0.014110356169150759,\n",
        "  360: 0.013781309971240741,\n",
        "  370: 0.00836820445401835,\n",
        "  382: 0.06597320693753059,\n",
        "  394: 0.003201424503168669,\n",
        "  397: 0.004139935156601265,\n",
        "  399: 0.009784204539868212,\n",
        "  406: 0.04096699340138504,\n",
        "  409: 0.005135483661080488,\n",
        "  425: 0.009929607993072556,\n",
        "  426: 0.009056801072175921,\n",
        "  428: 0.009494599383939144,\n",
        "  429: 0.5815528258225117,\n",
        "  433: 0.7868007901785221,\n",
        "  436: 0.006545755726580163,\n",
        "  439: 0.02773224597281647,\n",
        "  440: 0.580539354188672,\n",
        "  442: 0.008002960915097194,\n",
        "  443: 0.022780806656474528,\n",
        "  471: 0.007679871795185701,\n",
        "  473: 0.008846532435265373,\n",
        "  476: 0.09023113131606096,\n",
        "  479: 0.044928208437939425,\n",
        "  482: 0.5621299421750128,\n",
        "  489: 0.13911344388193256,\n",
        "  493: 0.006003809996626888,\n",
        "  494: 0.6295090107427507,\n",
        "  498: 0.08056947410914922,\n",
        "  504: 0.07031997051071033,\n",
        "  506: 0.04451134797659096,\n",
        "  513: 0.11366487633741706,\n",
        "  516: 0.01714455043756853,\n",
        "  522: 0.11263181849982502,\n",
        "  525: 0.0054899920624570065,\n",
        "  527: 0.8087373753671495,\n",
        "  529: 0.014313435477786903,\n",
        "  533: 0.016712139736246665,\n",
        "  537: 0.03004229453761346,\n",
        "  555: 0.24381720708675714,\n",
        "  560: 0.0480820069141431,\n",
        "  562: 0.025575617179843062,\n",
        "  564: 0.010605469439858373,\n",
        "  571: 0.02868931534540356,\n",
        "  574: 0.00418444227589402,\n",
        "  579: 0.005014746296190137,\n",
        "  582: 0.10815347413748311,\n",
        "  595: 0.019658191206461294,\n",
        "  602: 0.03570551349779188,\n",
        "  605: 0.38789016245516594,\n",
        "  608: 0.008546506396075985,\n",
        "  610: 0.015634087249977918,\n",
        "  629: 0.013193950524904992,\n",
        "  641: 0.06120443891152219,\n",
        "  644: 0.05993628725705385,\n",
        "  650: 0.017328528366950077,\n",
        "  652: 0.011703686935286008,\n",
        "  661: 0.012041519504928964,\n",
        "  666: 0.004740897976924778,\n",
        "  667: 0.015620945002852585,\n",
        "  670: 0.023090501302834195,\n",
        "  671: 0.732485633183893,\n",
        "  710: 0.036532200116165085,\n",
        "  712: 0.020009782546662365,\n",
        "  715: 0.011903536751260354,\n",
        "  721: 0.004918988438349289,\n",
        "  729: 0.028117567921813896,\n",
        "  746: 0.016764461850084702,\n",
        "  748: 0.030710394696628326,\n",
        "  751: 0.038802987247895396,\n",
        "  754: 0.051346773701365936,\n",
        "  761: 0.12653585158971606,\n",
        "  764: 0.056538702913236816,\n",
        "  769: 0.023997949886374936,\n",
        "  780: 0.029334093058088,\n",
        "  782: 0.07363701730599795,\n",
        "  786: 0.008118519382704225,\n",
        "  787: 0.03504339607744309,\n",
        "  789: 0.022023630965028077,\n",
        "  805: 0.015649976212801384,\n",
        "  809: 0.011989071279018387,\n",
        "  825: 0.06057510950289986,\n",
        "  829: 0.03798892533515931,\n",
        "  838: 0.0134154962224689,\n",
        "  848: 0.048815531591282824,\n",
        "  849: 0.01788352847224778,\n",
        "  858: 0.011295952759733604,\n",
        "  859: 0.09890446063393969,\n",
        "  861: 0.01003721200928597,\n",
        "  869: 0.014521550752471968,\n",
        "  874: 0.03305682864301759,\n",
        "  887: 0.011010318014038704,\n",
        "  889: 0.009553650653660936,\n",
        "  892: 0.00445549294426078,\n",
        "  900: 0.0062498708597597315,\n",
        "  915: 0.03516963779345761,\n",
        "  930: 0.0126293244086843,\n",
        "  942: 0.022156359033169426,\n",
        "  944: 0.0643732854480984,\n",
        "  961: 0.006714184833555512,\n",
        "  965: 0.02824221732188076,\n",
        "  978: 0.01394986259524423})"
       ]
      }
     ],
     "prompt_number": 21
    },
    {
     "cell_type": "heading",
     "level": 5,
     "metadata": {},
     "source": [
      "dice similarities"
     ]
    },
    {
     "cell_type": "code",
     "collapsed": false,
     "input": [
      "import numpy as np"
     ],
     "language": "python",
     "metadata": {},
     "outputs": [],
     "prompt_number": 22
    },
    {
     "cell_type": "code",
     "collapsed": false,
     "input": [
      "def build_weighted_dice_similarities(tag_artists, combined_weights):\n",
      "    ret = np.zeros((len(tags), len(tags)))\n",
      "    \n",
      "    for tag_i, tag_j in combinations(xrange(len(tags)), 2):\n",
      "        artists_i, artists_j = tag_artists[tag_i], tag_artists[tag_j]\n",
      "        common_artists = artists_i & artists_j\n",
      "        if not common_artists:\n",
      "            similarity = 0.0\n",
      "        else:\n",
      "            sum_common = sum(combined_weights[tag_i][common_artist] * combined_weights[tag_j][common_artist]\n",
      "                             for common_artist in common_artists)\n",
      "            sum_i = sum(combined_weights[tag_i][artist_i] for artist_i in artists_i)\n",
      "            sum_j = sum(combined_weights[tag_j][artist_j] for artist_j in artists_j)\n",
      "            similarity = sum_common / (sum_i + sum_j)\n",
      "        ret[tag_i, tag_j] = similarity\n",
      "    return ret"
     ],
     "language": "python",
     "metadata": {},
     "outputs": [],
     "prompt_number": 23
    },
    {
     "cell_type": "code",
     "collapsed": false,
     "input": [
      "weighted_dice_similarities = build_weighted_dice_similarities(tag_artists, combined_weights)"
     ],
     "language": "python",
     "metadata": {},
     "outputs": [],
     "prompt_number": 24
    },
    {
     "cell_type": "code",
     "collapsed": false,
     "input": [
      "for x in np.argsort(weighted_dice_similarities[0])[::-1][:30]:\n",
      "    print tags[x]"
     ],
     "language": "python",
     "metadata": {},
     "outputs": [
      {
       "output_type": "stream",
       "stream": "stdout",
       "text": [
        "trip-hop\n",
        "electropop\n",
        "synthpop\n",
        "electronica\n",
        "house\n",
        "downtempo\n",
        "dance\n",
        "ambient\n",
        "electro\n",
        "experimental\n",
        "idm\n",
        "indie pop\n",
        "indietronica\n",
        "british\n",
        "dubstep\n",
        "swedish\n",
        "chillout\n",
        "indie\n",
        "techno\n",
        "female vocalists\n",
        "dream pop\n",
        "french\n",
        "chillwave\n",
        "new rave\n",
        "synth pop\n",
        "electro house\n",
        "instrumental\n",
        "psychedelic\n",
        "trip hop\n",
        "big beat\n"
       ]
      }
     ],
     "prompt_number": 25
    },
    {
     "cell_type": "code",
     "collapsed": false,
     "input": [
      "tags[0], tags[14]"
     ],
     "language": "python",
     "metadata": {},
     "outputs": [
      {
       "metadata": {},
       "output_type": "pyout",
       "prompt_number": 26,
       "text": [
        "(u'electronic', u'synthpop')"
       ]
      }
     ],
     "prompt_number": 26
    },
    {
     "cell_type": "code",
     "collapsed": false,
     "input": [],
     "language": "python",
     "metadata": {},
     "outputs": []
    },
    {
     "cell_type": "code",
     "collapsed": false,
     "input": [],
     "language": "python",
     "metadata": {},
     "outputs": []
    },
    {
     "cell_type": "code",
     "collapsed": false,
     "input": [
      "dice_similarities = dict()\n",
      "for t1, t2 in combinations(tag_artists.iterkeys(), 1000), 2):\n",
      "    T1, T2 = tag_artists[t1], tag_artists[t2]\n",
      "    dice_similarities[(t1,t2)] = 2. * len(T1 & T2) / (len(T1) + len(T2)) "
     ],
     "language": "python",
     "metadata": {},
     "outputs": [
      {
       "ename": "SyntaxError",
       "evalue": "invalid syntax (<ipython-input-62-3ce114a9de2c>, line 2)",
       "output_type": "pyerr",
       "traceback": [
        "\u001b[0;36m  File \u001b[0;32m\"<ipython-input-62-3ce114a9de2c>\"\u001b[0;36m, line \u001b[0;32m2\u001b[0m\n\u001b[0;31m    for t1, t2 in combinations(tag_artists.iterkeys(), 1000), 2):\u001b[0m\n\u001b[0m                                                               ^\u001b[0m\n\u001b[0;31mSyntaxError\u001b[0m\u001b[0;31m:\u001b[0m invalid syntax\n"
       ]
      }
     ],
     "prompt_number": 62
    },
    {
     "cell_type": "code",
     "collapsed": false,
     "input": [
      "most_similar = sorted(dice_similarities.iteritems(), key=itemgetter(1))"
     ],
     "language": "python",
     "metadata": {},
     "outputs": [],
     "prompt_number": 12
    }
   ],
   "metadata": {}
  }
 ]
}