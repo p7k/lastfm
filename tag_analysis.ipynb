{
 "metadata": {
  "name": "",
  "signature": "sha256:6f369f3e381d2fb4df2a7feeb4e569f164b946767d9bc15f018f8ebd5b508d16"
 },
 "nbformat": 3,
 "nbformat_minor": 0,
 "worksheets": [
  {
   "cells": [
    {
     "cell_type": "code",
     "collapsed": false,
     "input": [
      "import json\n",
      "import codecs\n",
      "import math\n",
      "import string"
     ],
     "language": "python",
     "metadata": {},
     "outputs": [],
     "prompt_number": 1
    },
    {
     "cell_type": "code",
     "collapsed": false,
     "input": [
      "import numpy as np"
     ],
     "language": "python",
     "metadata": {},
     "outputs": [],
     "prompt_number": 2
    },
    {
     "cell_type": "code",
     "collapsed": false,
     "input": [
      "from itertools import islice, combinations\n",
      "from operator import itemgetter\n",
      "from collections import OrderedDict"
     ],
     "language": "python",
     "metadata": {},
     "outputs": [],
     "prompt_number": 3
    },
    {
     "cell_type": "code",
     "collapsed": false,
     "input": [
      "def normalize_tag_term(tag, exclude=dict.fromkeys(map(ord, string.punctuation))):\n",
      "    \"\"\"a little naive in stripping all punctuation.\n",
      "    stemming would deal with sementically identical syntax variations: electronic, electronica, electro\"\"\"\n",
      "    tag = tag.strip().lower()\n",
      "#     tag = tag.translate(exclude)\n",
      "    return tag"
     ],
     "language": "python",
     "metadata": {},
     "outputs": [],
     "prompt_number": 4
    },
    {
     "cell_type": "code",
     "collapsed": false,
     "input": [
      "def load_tags_data(tags_file, encoding='utf-8'):\n",
      "    artist_artist_id = OrderedDict()  # artists -> artist_id\n",
      "    tag_tag_id = OrderedDict()        # tags -> artist_id\n",
      "    artist_tags = dict()       # artist_id -> {tag}\n",
      "    tag_artists = dict()       # tag -> {artist_id}\n",
      "    tag_artist_count = dict()  # tag -> artist_id -> count\n",
      "    \n",
      "    # load data\n",
      "    with codecs.open(tags_file, 'r') as f:\n",
      "        for line in f:\n",
      "            # decode json\n",
      "            top_tags = json.loads(line)['toptags']\n",
      "            # artists (documents) store only unique artists\n",
      "            artist = top_tags['@attr']['artist']\n",
      "            artist_id = artist_artist_id.setdefault(artist, len(artist_artist_id))\n",
      "            # tag name and count (terms and frequency)\n",
      "            for raw_tag in top_tags['tag']:\n",
      "                tag = normalize_tag_term(raw_tag['name'])\n",
      "                # skip empty tags\n",
      "                if not tag:\n",
      "                    print 'warning: skipping empty tag [raw: \"{}\"]'.format(raw_tag['name'])\n",
      "                    continue\n",
      "                # store only unique tags\n",
      "                tag_id = tag_tag_id.setdefault(tag, len(tag_tag_id))\n",
      "                # store tag counts for each artist\n",
      "                count = int(raw_tag['count'])\n",
      "                tag_artist_count.setdefault(tag_id, dict())[artist_id] = count\n",
      "                # store artist tag sets\n",
      "                artist_tags.setdefault(artist_id, set()).add(tag_id)\n",
      "                # store tag artist sets\n",
      "                tag_artists.setdefault(tag_id, set()).add(artist_id)\n",
      "                                \n",
      "    return (artist_artist_id, tag_tag_id,\n",
      "            artist_tags, tag_artists, tag_artist_count)"
     ],
     "language": "python",
     "metadata": {},
     "outputs": [],
     "prompt_number": 5
    },
    {
     "cell_type": "code",
     "collapsed": false,
     "input": [
      "artist_artist_id, tag_tag_id, artist_tags, tag_artists, tag_artist_count = load_tags_data('data.raw/top_tags.json')"
     ],
     "language": "python",
     "metadata": {},
     "outputs": [],
     "prompt_number": 6
    },
    {
     "cell_type": "code",
     "collapsed": false,
     "input": [
      "artist_names = tuple(artist_artist_id.iterkeys())\n",
      "tag_names = tuple(tag_tag_id.iterkeys())"
     ],
     "language": "python",
     "metadata": {},
     "outputs": [],
     "prompt_number": 7
    },
    {
     "cell_type": "heading",
     "level": 5,
     "metadata": {},
     "source": [
      "local tag (term) weight [ normalized term frequency ]"
     ]
    },
    {
     "cell_type": "code",
     "collapsed": false,
     "input": [
      "# looks like they've already normalized local weights 'count' is always between 0-100\n",
      "# zero-based nature of that normalization may cause issues with rest of the analysis\n",
      "# might be worth experinenting and normalizing it further with logrithms \n",
      "def build_local_tag_weights(tag_artist_count):\n",
      "    ret = dict()\n",
      "    for tag, artist_count in tag_artist_count.iteritems():\n",
      "        for artist, count in artist_count.iteritems():\n",
      "            ret.setdefault(tag, dict())[artist] = (math.lgamma(count + 1) + .1)\n",
      "#             ret.setdefault(tag, dict())[artist] = count + 1\n",
      "    return ret"
     ],
     "language": "python",
     "metadata": {},
     "outputs": [],
     "prompt_number": 8
    },
    {
     "cell_type": "code",
     "collapsed": false,
     "input": [
      "local_tag_weights = build_local_tag_weights(tag_artist_count)"
     ],
     "language": "python",
     "metadata": {},
     "outputs": [],
     "prompt_number": 9
    },
    {
     "cell_type": "heading",
     "level": 5,
     "metadata": {},
     "source": [
      "global tag (term) weight (inverse document frequency)"
     ]
    },
    {
     "cell_type": "code",
     "collapsed": false,
     "input": [
      "# penalize generic tags"
     ],
     "language": "python",
     "metadata": {},
     "outputs": [],
     "prompt_number": 10
    },
    {
     "cell_type": "code",
     "collapsed": false,
     "input": [
      "def idf(n_docs, n_docs_with_term):\n",
      "    return math.log(float(n_docs) / n_docs_with_term)"
     ],
     "language": "python",
     "metadata": {},
     "outputs": [],
     "prompt_number": 11
    },
    {
     "cell_type": "code",
     "collapsed": false,
     "input": [
      "def build_global_tag_weights(n_artists, tag_artists):\n",
      "    \"\"\"returns dict tag -> weight\"\"\"\n",
      "    ret = dict()\n",
      "    for tag, artists in tag_artists.iteritems():\n",
      "        ret[tag] = idf(n_artists, len(artists))\n",
      "    return ret"
     ],
     "language": "python",
     "metadata": {},
     "outputs": [],
     "prompt_number": 12
    },
    {
     "cell_type": "code",
     "collapsed": false,
     "input": [
      "global_tag_weights = build_global_tag_weights(len(artist_names), tag_artists)"
     ],
     "language": "python",
     "metadata": {},
     "outputs": [],
     "prompt_number": 13
    },
    {
     "cell_type": "code",
     "collapsed": false,
     "input": [
      "# test : look at most generic tags  :: hrrm, 'epic music'\n",
      "sorted((w, tag_names[t]) for t, w in global_tag_weights.iteritems())[:10]"
     ],
     "language": "python",
     "metadata": {},
     "outputs": [
      {
       "metadata": {},
       "output_type": "pyout",
       "prompt_number": 14,
       "text": [
        "[(0.12570639979203083, u'alternative'),\n",
        " (0.13732093221272387, u'pop'),\n",
        " (0.1693711532191709, u'indie'),\n",
        " (0.19999203917549946, u'rock'),\n",
        " (0.2802420651870855, u'electronic'),\n",
        " (0.33281295219642343, u'00s'),\n",
        " (0.4019072898698554, u'male vocalists'),\n",
        " (0.4110816661458967, u'alternative rock'),\n",
        " (0.44864476772154527, u'favorites'),\n",
        " (0.49935064128911616, u'indie rock')]"
       ]
      }
     ],
     "prompt_number": 14
    },
    {
     "cell_type": "heading",
     "level": 5,
     "metadata": {},
     "source": [
      "compensate for document length (artist tag count) differences using cosine normalization"
     ]
    },
    {
     "cell_type": "code",
     "collapsed": false,
     "input": [
      "# used to correct discrepancies in document lengths.\n",
      "# E.g. In case of tagging systems, a resource that has been given more tags,\n",
      "# will be favoured if weights are not normalized.\n",
      "# Since it is not always true that a resource that has been given more number of tags\n",
      "# is more relevant than a resource with lesser number of tags.\n",
      "# Hence, it is useful to normalize the document vectors so that documents are not favoured based on their lengths."
     ],
     "language": "python",
     "metadata": {},
     "outputs": [],
     "prompt_number": 15
    },
    {
     "cell_type": "code",
     "collapsed": false,
     "input": [
      "def cos_norm(global_local_tag_weights):\n",
      "    return 1. / math.sqrt(sum((gtw * ltw)**2 for gtw, ltw in global_local_tag_weights)) "
     ],
     "language": "python",
     "metadata": {},
     "outputs": [],
     "prompt_number": 16
    },
    {
     "cell_type": "code",
     "collapsed": false,
     "input": [
      "def build_normalized_artist_weights(artist_tags, local_tag_weights, global_tag_weights):\n",
      "    \"\"\"returns dict artist_id -> combined_weight\"\"\"\n",
      "    ret = dict()  \n",
      "    for artist_id, tags in artist_tags.iteritems():\n",
      "        gtw_ltw = ((global_tag_weights[tag], local_tag_weights[tag][artist_id]) for tag in tags)\n",
      "        ret[artist_id] = cos_norm(gtw_ltw)\n",
      "    return ret"
     ],
     "language": "python",
     "metadata": {},
     "outputs": [],
     "prompt_number": 17
    },
    {
     "cell_type": "code",
     "collapsed": false,
     "input": [
      "normalized_artist_weights = build_normalized_artist_weights(artist_tags, local_tag_weights, global_tag_weights)"
     ],
     "language": "python",
     "metadata": {},
     "outputs": [],
     "prompt_number": 18
    },
    {
     "cell_type": "code",
     "collapsed": false,
     "input": [
      "# test\n",
      "sorted((w, artist_names[a]) for a, w in normalized_artist_weights.iteritems())[-10:]"
     ],
     "language": "python",
     "metadata": {},
     "outputs": [
      {
       "metadata": {},
       "output_type": "pyout",
       "prompt_number": 19,
       "text": [
        "[(0.006190844665872096, u'The Dandy Warhols'),\n",
        " (0.0063088597178669135, u'Cake'),\n",
        " (0.00633026566838774, u'AWOLNATION'),\n",
        " (0.006688092058222764, u'The Shins'),\n",
        " (0.0068581208870260955, u'The Postal Service'),\n",
        " (0.006940709143860244, u'Eels'),\n",
        " (0.007067164435660615, u'Beck'),\n",
        " (0.007304578393896209, u'R.E.M.'),\n",
        " (0.007504789609747098, u'Death Cab for Cutie'),\n",
        " (0.008084130092825239, u'MKTO')]"
       ]
      }
     ],
     "prompt_number": 19
    },
    {
     "cell_type": "heading",
     "level": 5,
     "metadata": {},
     "source": [
      "combined weights (artists and tags)"
     ]
    },
    {
     "cell_type": "code",
     "collapsed": false,
     "input": [
      "def combined_weight(local_tag_weight, global_tag_weight, normalized_artist_weight):\n",
      "    return local_tag_weight * global_tag_weight * normalized_artist_weight"
     ],
     "language": "python",
     "metadata": {},
     "outputs": [],
     "prompt_number": 20
    },
    {
     "cell_type": "code",
     "collapsed": false,
     "input": [
      "def build_combined_weights(tag_artists, local_tag_weights, global_tag_weights, normalized_artist_weights):\n",
      "    \"\"\"return dict tag -> artist -> weight\"\"\"\n",
      "    ret = np.zeros((len(tag_names), len(artist_names)), dtype='float32')\n",
      "    for tag, artists in tag_artists.iteritems():\n",
      "        for artist in artists:\n",
      "            ret[tag, artist] = combined_weight(local_tag_weights[tag][artist],\n",
      "                                               global_tag_weights[tag],\n",
      "                                               normalized_artist_weights[artist])\n",
      "    return ret"
     ],
     "language": "python",
     "metadata": {},
     "outputs": [],
     "prompt_number": 21
    },
    {
     "cell_type": "code",
     "collapsed": false,
     "input": [
      "combined_weights = build_combined_weights(tag_artists, local_tag_weights, global_tag_weights, normalized_artist_weights)"
     ],
     "language": "python",
     "metadata": {},
     "outputs": [],
     "prompt_number": 22
    },
    {
     "cell_type": "heading",
     "level": 5,
     "metadata": {},
     "source": [
      "dice similarities"
     ]
    },
    {
     "cell_type": "code",
     "collapsed": false,
     "input": [
      "def dice_similarities(tag_artists, combined_weights):\n",
      "    # optimizations\n",
      "    n_tags = 100 #len(tag_names)\n",
      "    tag_artists = tuple(artists for _, artists in sorted(tag_artists.iteritems()))\n",
      "    \n",
      "    ret = dict()\n",
      "\n",
      "    # weighted dice similarity calc\n",
      "    for tag_i in xrange(n_tags):\n",
      "        artists_i = tag_artists[tag_i]\n",
      "        for tag_j in xrange(tag_i, n_tags):\n",
      "            artists_j = tag_artists[tag_j]\n",
      "            common_artists = tuple(artists_i & artists_j)\n",
      "            if not common_artists:\n",
      "                continue\n",
      "            sum_common = np.multiply(combined_weights[tag_i, common_artists],\n",
      "                                     combined_weights[tag_j, common_artists]).sum()\n",
      "            if sum_common == 0.0:\n",
      "                continue\n",
      "            sum_i = combined_weights[tag_i].sum()\n",
      "            sum_j = combined_weights[tag_j].sum()\n",
      "            similarity = sum_common / (sum_i + sum_j)\n",
      "            if similarity == 0.0:\n",
      "                continue\n",
      "            ret.setdefault(tag_i, dict())[tag_j] = ret.setdefault(tag_j, dict())[tag_i] = similarity\n",
      "    return ret"
     ],
     "language": "python",
     "metadata": {},
     "outputs": [],
     "prompt_number": 38
    },
    {
     "cell_type": "code",
     "collapsed": false,
     "input": [
      "def build_weighted_dice_similarities(tag_artists, combined_weights):\n",
      "    # optimizations\n",
      "    n_tags = 100 #len(tag_names)\n",
      "    tag_artists = tuple(artists for _, artists in sorted(tag_artists.iteritems()))\n",
      "    \n",
      "    # numpy zero matrix with a diagonal of nan\n",
      "    ret = np.zeros((n_tags, n_tags), dtype='float16')\n",
      "    np.fill_diagonal(ret, np.nan)\n",
      "    \n",
      "    # weighted dice similarity calc\n",
      "    for tag_i in xrange(n_tags):\n",
      "        artists_i = tag_artists[tag_i]\n",
      "        for tag_j in xrange(tag_i, n_tags):\n",
      "            artists_j = tag_artists[tag_j]\n",
      "            common_artists = tuple(artists_i & artists_j)\n",
      "            if not common_artists:\n",
      "                continue\n",
      "            sum_common = np.multiply(combined_weights[tag_i, common_artists],\n",
      "                                     combined_weights[tag_j, common_artists]).sum()\n",
      "            sum_i = combined_weights[tag_i].sum()\n",
      "            sum_j = combined_weights[tag_j].sum()\n",
      "            similarity = sum_common / (sum_i + sum_j)\n",
      "            ret[tag_i, tag_j] = similarity\n",
      "\n",
      "    # make symmetric\n",
      "    rows, cols = np.triu_indices_from(x, k=1)\n",
      "    x[cols, rows] = x[rows, cols]\n",
      "    return ret"
     ],
     "language": "python",
     "metadata": {},
     "outputs": [],
     "prompt_number": 29
    },
    {
     "cell_type": "code",
     "collapsed": false,
     "input": [
      "weighted_dice_similarities = dice_similarities(tag_artists, combined_weights)"
     ],
     "language": "python",
     "metadata": {},
     "outputs": [],
     "prompt_number": 40
    },
    {
     "cell_type": "code",
     "collapsed": false,
     "input": [
      "len(weighted_dice_similarities)"
     ],
     "language": "python",
     "metadata": {},
     "outputs": [
      {
       "metadata": {},
       "output_type": "pyout",
       "prompt_number": 41,
       "text": [
        "100"
       ]
      }
     ],
     "prompt_number": 41
    },
    {
     "cell_type": "code",
     "collapsed": false,
     "input": [
      "tag_i = 10090\n",
      "print 'for \"{}\":'.format(tag_names[tag_i])\n",
      "for tag_j, weight in sorted(weighted_dice_similarities[tag_i].iteritems(), key=itemgetter(1), reverse=True):\n",
      "    print ' ', tag_names[tag_j]"
     ],
     "language": "python",
     "metadata": {},
     "outputs": [
      {
       "output_type": "stream",
       "stream": "stdout",
       "text": [
        "for \"wack suckaz\":\n"
       ]
      },
      {
       "ename": "KeyError",
       "evalue": "10090",
       "output_type": "pyerr",
       "traceback": [
        "\u001b[0;31m---------------------------------------------------------------------------\u001b[0m\n\u001b[0;31mKeyError\u001b[0m                                  Traceback (most recent call last)",
        "\u001b[0;32m<ipython-input-49-3394a98a4079>\u001b[0m in \u001b[0;36m<module>\u001b[0;34m()\u001b[0m\n\u001b[1;32m      1\u001b[0m \u001b[0mtag_i\u001b[0m \u001b[0;34m=\u001b[0m \u001b[0;36m10090\u001b[0m\u001b[0;34m\u001b[0m\u001b[0m\n\u001b[1;32m      2\u001b[0m \u001b[0;32mprint\u001b[0m \u001b[0;34m'for \"{}\":'\u001b[0m\u001b[0;34m.\u001b[0m\u001b[0mformat\u001b[0m\u001b[0;34m(\u001b[0m\u001b[0mtag_names\u001b[0m\u001b[0;34m[\u001b[0m\u001b[0mtag_i\u001b[0m\u001b[0;34m]\u001b[0m\u001b[0;34m)\u001b[0m\u001b[0;34m\u001b[0m\u001b[0m\n\u001b[0;32m----> 3\u001b[0;31m \u001b[0;32mfor\u001b[0m \u001b[0mtag_j\u001b[0m\u001b[0;34m,\u001b[0m \u001b[0mweight\u001b[0m \u001b[0;32min\u001b[0m \u001b[0msorted\u001b[0m\u001b[0;34m(\u001b[0m\u001b[0mweighted_dice_similarities\u001b[0m\u001b[0;34m[\u001b[0m\u001b[0mtag_i\u001b[0m\u001b[0;34m]\u001b[0m\u001b[0;34m.\u001b[0m\u001b[0miteritems\u001b[0m\u001b[0;34m(\u001b[0m\u001b[0;34m)\u001b[0m\u001b[0;34m,\u001b[0m \u001b[0mkey\u001b[0m\u001b[0;34m=\u001b[0m\u001b[0mitemgetter\u001b[0m\u001b[0;34m(\u001b[0m\u001b[0;36m1\u001b[0m\u001b[0;34m)\u001b[0m\u001b[0;34m,\u001b[0m \u001b[0mreverse\u001b[0m\u001b[0;34m=\u001b[0m\u001b[0mTrue\u001b[0m\u001b[0;34m)\u001b[0m\u001b[0;34m:\u001b[0m\u001b[0;34m\u001b[0m\u001b[0m\n\u001b[0m\u001b[1;32m      4\u001b[0m     \u001b[0;32mprint\u001b[0m \u001b[0;34m' '\u001b[0m\u001b[0;34m,\u001b[0m \u001b[0mtag_names\u001b[0m\u001b[0;34m[\u001b[0m\u001b[0mtag_j\u001b[0m\u001b[0;34m]\u001b[0m\u001b[0;34m\u001b[0m\u001b[0m\n",
        "\u001b[0;31mKeyError\u001b[0m: 10090"
       ]
      }
     ],
     "prompt_number": 49
    },
    {
     "cell_type": "code",
     "collapsed": false,
     "input": [
      "tag_i = 0\n",
      "print 'for \"{}\":'.format(tag_names[tag_i])\n",
      "for tag_j in reversed(np.argsort(weighted_dice_similarities[tag_i])[-30::]):\n",
      "    print ' ', tag_names[tag_j]"
     ],
     "language": "python",
     "metadata": {},
     "outputs": [
      {
       "output_type": "stream",
       "stream": "stdout",
       "text": [
        "for \"electronic\":\n",
        "  electronic\n",
        "  electronica\n",
        "  electropop\n",
        "  trip-hop\n",
        "  house\n",
        "  dance\n",
        "  synthpop\n",
        "  ambient\n",
        "  experimental\n",
        "  indie pop\n",
        "  downtempo\n",
        "  electro\n",
        "  indie\n",
        "  british\n",
        "  dubstep\n",
        "  idm\n",
        "  swedish\n",
        "  chillout\n",
        "  female vocalists\n",
        "  indietronica\n",
        "  french\n",
        "  techno\n",
        "  instrumental\n",
        "  chillwave\n",
        "  dream pop\n",
        "  alternative\n",
        "  psychedelic\n",
        "  australian\n",
        "  big beat\n",
        "  neo-psychedelia\n"
       ]
      }
     ],
     "prompt_number": 28
    },
    {
     "cell_type": "heading",
     "level": 4,
     "metadata": {},
     "source": [
      "persist to sqlite as a bin blob ndarray"
     ]
    },
    {
     "cell_type": "code",
     "collapsed": false,
     "input": [
      "import sqlite3\n",
      "import io\n",
      "\n",
      "def adapt_array(arr):\n",
      "    out = io.BytesIO()\n",
      "    np.save(out, arr)\n",
      "    out.seek(0)\n",
      "    return buffer(out.read())\n",
      "\n",
      "# Converts np.array to TEXT when inserting\n",
      "sqlite3.register_adapter(np.ndarray, adapt_array)\n",
      "\n",
      "\n",
      "def convert_array(text):\n",
      "    out = io.BytesIO(text)\n",
      "    out.seek(0)\n",
      "    return np.load(out)\n",
      "\n",
      "# Converts TEXT to np.array when selecting\n",
      "sqlite3.register_converter(\"array\", convert_array)"
     ],
     "language": "python",
     "metadata": {},
     "outputs": [],
     "prompt_number": 75
    },
    {
     "cell_type": "code",
     "collapsed": false,
     "input": [
      "con = sqlite3.connect(\"tag_matrix.db\", detect_types=sqlite3.PARSE_DECLTYPES)\n",
      "cur = con.cursor()"
     ],
     "language": "python",
     "metadata": {},
     "outputs": [],
     "prompt_number": 76
    },
    {
     "cell_type": "code",
     "collapsed": false,
     "input": [
      "cur.execute(\"create table matrix (arr array)\")"
     ],
     "language": "python",
     "metadata": {},
     "outputs": [
      {
       "metadata": {},
       "output_type": "pyout",
       "prompt_number": 78,
       "text": [
        "<sqlite3.Cursor at 0x11355c7a0>"
       ]
      }
     ],
     "prompt_number": 78
    },
    {
     "cell_type": "code",
     "collapsed": false,
     "input": [
      "cur.\n",
      "for row in weighted_dice_similarities:\n",
      "    cur.execute(\"insert into matrix (arr) values (?)\", (weighted_dice_similarities[tag_i], ))"
     ],
     "language": "python",
     "metadata": {},
     "outputs": [
      {
       "metadata": {},
       "output_type": "pyout",
       "prompt_number": 66,
       "text": [
        "<sqlite3.Cursor at 0x11359fea0>"
       ]
      }
     ],
     "prompt_number": 66
    },
    {
     "cell_type": "code",
     "collapsed": false,
     "input": [
      "cur.execute(\"select arr from test\")\n",
      "data = cur.fetchone()[0]"
     ],
     "language": "python",
     "metadata": {},
     "outputs": [],
     "prompt_number": 67
    },
    {
     "cell_type": "code",
     "collapsed": false,
     "input": [
      "print(data)\n",
      "print(type(data))"
     ],
     "language": "python",
     "metadata": {},
     "outputs": [
      {
       "output_type": "stream",
       "stream": "stdout",
       "text": [
        "[ 0.10241699  0.04205322  0.03146362  0.00627136  0.04876709  0.02841187\n",
        "  0.00490952  0.04296875  0.02915955  0.00749969]\n",
        "<type 'numpy.ndarray'>\n"
       ]
      }
     ],
     "prompt_number": 68
    },
    {
     "cell_type": "code",
     "collapsed": true,
     "input": [
      "con.close()"
     ],
     "language": "python",
     "metadata": {},
     "outputs": [],
     "prompt_number": 69
    },
    {
     "cell_type": "code",
     "collapsed": false,
     "input": [],
     "language": "python",
     "metadata": {},
     "outputs": []
    }
   ],
   "metadata": {}
  }
 ]
}