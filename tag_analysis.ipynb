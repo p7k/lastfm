{
 "metadata": {
  "name": "",
  "signature": "sha256:24db6a38b28e88fb43355780c768c9957379962b0c94747c1458fa15a39adcf9"
 },
 "nbformat": 3,
 "nbformat_minor": 0,
 "worksheets": [
  {
   "cells": [
    {
     "cell_type": "code",
     "collapsed": false,
     "input": [
      "import json\n",
      "import codecs\n",
      "import math\n",
      "import string"
     ],
     "language": "python",
     "metadata": {},
     "outputs": [],
     "prompt_number": 1
    },
    {
     "cell_type": "code",
     "collapsed": false,
     "input": [
      "from itertools import islice, izip, repeat\n",
      "from operator import itemgetter\n",
      "from collections import OrderedDict"
     ],
     "language": "python",
     "metadata": {},
     "outputs": [],
     "prompt_number": 108
    },
    {
     "cell_type": "code",
     "collapsed": false,
     "input": [
      "def normalize_tag_term(tag, exclude=dict.fromkeys(map(ord, string.punctuation))):\n",
      "    \"\"\"a little naive in stripping all punctuation.\n",
      "    stemming would deal with sementically identical syntax variations: electronic, electronica, electro\"\"\"\n",
      "    tag = tag.strip().lower()\n",
      "#     tag = tag.translate(exclude)\n",
      "    return tag"
     ],
     "language": "python",
     "metadata": {},
     "outputs": [],
     "prompt_number": 3
    },
    {
     "cell_type": "code",
     "collapsed": false,
     "input": [
      "def load_tags_data(tags_file, encoding='utf-8'):\n",
      "    artist_artist_id = OrderedDict()  # artists -> artist_id\n",
      "    tag_tag_id = OrderedDict()        # tags -> artist_id\n",
      "    artist_tags = dict()       # artist_id -> {tag}\n",
      "    tag_artists = dict()       # tag -> {artist_id}\n",
      "    tag_artist_count = dict()  # tag -> artist_id -> count\n",
      "    \n",
      "    # load data\n",
      "    with codecs.open(tags_file, 'r') as f:\n",
      "        for line in f:\n",
      "            # decode json\n",
      "            top_tags = json.loads(line)['toptags']\n",
      "            # artists (documents) store only unique artists\n",
      "            artist = top_tags['@attr']['artist']\n",
      "            artist_id = artist_artist_id.setdefault(artist, len(artist_artist_id))\n",
      "            # tag name and count (terms and frequency)\n",
      "            for raw_tag in top_tags['tag']:\n",
      "                tag = normalize_tag_term(raw_tag['name'])\n",
      "                # skip empty tags\n",
      "                if not tag:\n",
      "                    print 'warning: skipping empty tag [raw: \"{}\"]'.format(raw_tag['name'])\n",
      "                    continue\n",
      "                # store only unique tags\n",
      "                tag_id = tag_tag_id.setdefault(tag, len(tag_tag_id))\n",
      "                # store tag counts for each artist\n",
      "                count = int(raw_tag['count'])\n",
      "                tag_artist_count.setdefault(tag_id, dict())[artist_id] = count\n",
      "                # store artist tag sets\n",
      "                artist_tags.setdefault(artist_id, set()).add(tag_id)\n",
      "                # store tag artist sets\n",
      "                tag_artists.setdefault(tag_id, set()).add(artist_id)\n",
      "                                \n",
      "    return (artist_artist_id, tag_tag_id,\n",
      "            artist_tags, tag_artists, tag_artist_count)"
     ],
     "language": "python",
     "metadata": {},
     "outputs": [],
     "prompt_number": 4
    },
    {
     "cell_type": "code",
     "collapsed": false,
     "input": [
      "artist_artist_id, tag_tag_id, artist_tags, tag_artists, tag_artist_count = load_tags_data('data.raw/top_tags.json')"
     ],
     "language": "python",
     "metadata": {},
     "outputs": [],
     "prompt_number": 5
    },
    {
     "cell_type": "code",
     "collapsed": false,
     "input": [
      "artist_names = tuple(artist_artist_id.iterkeys())\n",
      "tag_names = tuple(tag_tag_id.iterkeys())"
     ],
     "language": "python",
     "metadata": {},
     "outputs": [],
     "prompt_number": 6
    },
    {
     "cell_type": "heading",
     "level": 5,
     "metadata": {},
     "source": [
      "local tag (term) weight [ normalized term frequency ]"
     ]
    },
    {
     "cell_type": "code",
     "collapsed": false,
     "input": [
      "# looks like they've already normalized local weights 'count' is always between 0-100\n",
      "# zero-based nature of that normalization may cause issues with rest of the analysis\n",
      "# might be worth experinenting and normalizing it further with logrithms \n",
      "def build_local_tag_weights(tag_artist_count):\n",
      "    ret = dict()\n",
      "    for tag, artist_count in tag_artist_count.iteritems():\n",
      "        for artist, count in artist_count.iteritems():\n",
      "            ret.setdefault(tag, dict())[artist] = (math.lgamma(count + 1) + .1)\n",
      "#             ret.setdefault(tag, dict())[artist] = count + 1\n",
      "    return ret"
     ],
     "language": "python",
     "metadata": {},
     "outputs": [],
     "prompt_number": 7
    },
    {
     "cell_type": "code",
     "collapsed": false,
     "input": [
      "local_tag_weights = build_local_tag_weights(tag_artist_count)"
     ],
     "language": "python",
     "metadata": {},
     "outputs": [],
     "prompt_number": 8
    },
    {
     "cell_type": "heading",
     "level": 5,
     "metadata": {},
     "source": [
      "global tag (term) weight (inverse document frequency)"
     ]
    },
    {
     "cell_type": "code",
     "collapsed": false,
     "input": [
      "# penalize generic tags"
     ],
     "language": "python",
     "metadata": {},
     "outputs": [],
     "prompt_number": 9
    },
    {
     "cell_type": "code",
     "collapsed": false,
     "input": [
      "def idf(n_docs, n_docs_with_term):\n",
      "    return math.log(float(n_docs) / n_docs_with_term)"
     ],
     "language": "python",
     "metadata": {},
     "outputs": [],
     "prompt_number": 10
    },
    {
     "cell_type": "code",
     "collapsed": false,
     "input": [
      "def build_global_tag_weights(n_artists, tag_artists):\n",
      "    \"\"\"returns dict tag -> weight\"\"\"\n",
      "    ret = dict()\n",
      "    for tag, artists in tag_artists.iteritems():\n",
      "        ret[tag] = idf(n_artists, len(artists))\n",
      "    return ret"
     ],
     "language": "python",
     "metadata": {},
     "outputs": [],
     "prompt_number": 11
    },
    {
     "cell_type": "code",
     "collapsed": false,
     "input": [
      "global_tag_weights = build_global_tag_weights(len(artist_names), tag_artists)"
     ],
     "language": "python",
     "metadata": {},
     "outputs": [],
     "prompt_number": 12
    },
    {
     "cell_type": "code",
     "collapsed": false,
     "input": [
      "# test : look at most generic tags  :: hrrm, 'epic music'\n",
      "sorted((w, tag_names[t]) for t, w in global_tag_weights.iteritems())[:10]"
     ],
     "language": "python",
     "metadata": {},
     "outputs": [
      {
       "metadata": {},
       "output_type": "pyout",
       "prompt_number": 13,
       "text": [
        "[(0.12570639979203083, u'alternative'),\n",
        " (0.13732093221272387, u'pop'),\n",
        " (0.1693711532191709, u'indie'),\n",
        " (0.19999203917549946, u'rock'),\n",
        " (0.2802420651870855, u'electronic'),\n",
        " (0.33281295219642343, u'00s'),\n",
        " (0.4019072898698554, u'male vocalists'),\n",
        " (0.4110816661458967, u'alternative rock'),\n",
        " (0.44864476772154527, u'favorites'),\n",
        " (0.49935064128911616, u'indie rock')]"
       ]
      }
     ],
     "prompt_number": 13
    },
    {
     "cell_type": "heading",
     "level": 5,
     "metadata": {},
     "source": [
      "compensate for document length (artist tag count) differences using cosine normalization"
     ]
    },
    {
     "cell_type": "code",
     "collapsed": false,
     "input": [
      "# used to correct discrepancies in document lengths.\n",
      "# E.g. In case of tagging systems, a resource that has been given more tags,\n",
      "# will be favoured if weights are not normalized.\n",
      "# Since it is not always true that a resource that has been given more number of tags\n",
      "# is more relevant than a resource with lesser number of tags.\n",
      "# Hence, it is useful to normalize the document vectors so that documents are not favoured based on their lengths."
     ],
     "language": "python",
     "metadata": {},
     "outputs": [],
     "prompt_number": 14
    },
    {
     "cell_type": "code",
     "collapsed": false,
     "input": [
      "def cos_norm(global_local_tag_weights):\n",
      "    return 1. / math.sqrt(sum((gtw * ltw)**2 for gtw, ltw in global_local_tag_weights)) "
     ],
     "language": "python",
     "metadata": {},
     "outputs": [],
     "prompt_number": 15
    },
    {
     "cell_type": "code",
     "collapsed": false,
     "input": [
      "def build_normalized_artist_weights(artist_tags, local_tag_weights, global_tag_weights):\n",
      "    \"\"\"returns dict artist_id -> combined_weight\"\"\"\n",
      "    ret = dict()  \n",
      "    for artist_id, tags in artist_tags.iteritems():\n",
      "        gtw_ltw = ((global_tag_weights[tag], local_tag_weights[tag][artist_id]) for tag in tags)\n",
      "        ret[artist_id] = cos_norm(gtw_ltw)\n",
      "    return ret"
     ],
     "language": "python",
     "metadata": {},
     "outputs": [],
     "prompt_number": 16
    },
    {
     "cell_type": "code",
     "collapsed": false,
     "input": [
      "normalized_artist_weights = build_normalized_artist_weights(artist_tags, local_tag_weights, global_tag_weights)"
     ],
     "language": "python",
     "metadata": {},
     "outputs": [],
     "prompt_number": 17
    },
    {
     "cell_type": "code",
     "collapsed": false,
     "input": [
      "# test\n",
      "sorted((w, artist_names[a]) for a, w in normalized_artist_weights.iteritems())[-10:]"
     ],
     "language": "python",
     "metadata": {},
     "outputs": [
      {
       "metadata": {},
       "output_type": "pyout",
       "prompt_number": 18,
       "text": [
        "[(0.006190844665872096, u'The Dandy Warhols'),\n",
        " (0.0063088597178669135, u'Cake'),\n",
        " (0.00633026566838774, u'AWOLNATION'),\n",
        " (0.006688092058222764, u'The Shins'),\n",
        " (0.0068581208870260955, u'The Postal Service'),\n",
        " (0.006940709143860244, u'Eels'),\n",
        " (0.007067164435660615, u'Beck'),\n",
        " (0.007304578393896209, u'R.E.M.'),\n",
        " (0.007504789609747098, u'Death Cab for Cutie'),\n",
        " (0.008084130092825239, u'MKTO')]"
       ]
      }
     ],
     "prompt_number": 18
    },
    {
     "cell_type": "heading",
     "level": 5,
     "metadata": {},
     "source": [
      "combined weights (artists and tags)"
     ]
    },
    {
     "cell_type": "code",
     "collapsed": false,
     "input": [
      "def combined_weight(local_tag_weight, global_tag_weight, normalized_artist_weight):\n",
      "    return local_tag_weight * global_tag_weight * normalized_artist_weight"
     ],
     "language": "python",
     "metadata": {},
     "outputs": [],
     "prompt_number": 19
    },
    {
     "cell_type": "code",
     "collapsed": false,
     "input": [
      "def build_combined_weights(tag_artists, local_tag_weights, global_tag_weights, normalized_artist_weights):\n",
      "    \"\"\"return dict tag -> artist -> weight\"\"\"\n",
      "    ret = dict()\n",
      "    for tag, artists in tag_artists.iteritems():\n",
      "        for artist in artists:\n",
      "            weight = combined_weight(local_tag_weights[tag][artist],\n",
      "                                     global_tag_weights[tag],\n",
      "                                     normalized_artist_weights[artist])\n",
      "            weight = int(weight * 1e3)\n",
      "            if weight:\n",
      "                ret.setdefault(tag, dict())[artist] = weight\n",
      "    return ret"
     ],
     "language": "python",
     "metadata": {},
     "outputs": [],
     "prompt_number": 86
    },
    {
     "cell_type": "code",
     "collapsed": false,
     "input": [
      "combined_weights = build_combined_weights(tag_artists, local_tag_weights, global_tag_weights, normalized_artist_weights)"
     ],
     "language": "python",
     "metadata": {},
     "outputs": [],
     "prompt_number": 87
    },
    {
     "cell_type": "heading",
     "level": 5,
     "metadata": {},
     "source": [
      "dice similarities"
     ]
    },
    {
     "cell_type": "code",
     "collapsed": false,
     "input": [
      "def build_weighted_dice_similarities(tag_artists, combined_weights):\n",
      "    n_tags = len(tag_names)\n",
      "    tag_artists = tuple(artists for _, artists in sorted(tag_artists.iteritems()))\n",
      "    empty_dict = {}\n",
      "    \n",
      "    ret = dict()\n",
      "\n",
      "    # weighted dice similarity calc\n",
      "    for tag_i in xrange(n_tags):\n",
      "        artists_i = tag_artists[tag_i]\n",
      "        for tag_j in xrange(tag_i + 1, n_tags):\n",
      "            artists_j = tag_artists[tag_j]\n",
      "            common_artists = artists_i & artists_j\n",
      "            if not common_artists:\n",
      "                continue\n",
      "            # calc sum of element-wise multiplication of weights for tag_i tag_j for common artists\n",
      "            sum_common = 0\n",
      "            for common_artist in common_artists:\n",
      "                sum_common += combined_weights.get(tag_i, empty_dict).get(common_artist, 0) * \\\n",
      "                                combined_weights.get(tag_j, empty_dict).get(common_artist, 0)\n",
      "            if not sum_common:\n",
      "                continue\n",
      "            # calc weight sums for tag_i and tag_j across all artists\n",
      "            sum_i = sum(combined_weights[tag_i].itervalues())\n",
      "            sum_j = sum(combined_weights[tag_j].itervalues())\n",
      "            similarity = sum_common // (sum_i + sum_j)\n",
      "            if not similarity:\n",
      "                continue\n",
      "            ret.setdefault(tag_i, dict())[tag_j] = similarity\n",
      "    return ret"
     ],
     "language": "python",
     "metadata": {},
     "outputs": [],
     "prompt_number": 88
    },
    {
     "cell_type": "code",
     "collapsed": false,
     "input": [
      "weighted_dice_similarities = build_weighted_dice_similarities(tag_artists, combined_weights)"
     ],
     "language": "python",
     "metadata": {},
     "outputs": [],
     "prompt_number": 89
    },
    {
     "cell_type": "code",
     "collapsed": false,
     "input": [
      "len(weighted_dice_similarities)"
     ],
     "language": "python",
     "metadata": {},
     "outputs": [
      {
       "metadata": {},
       "output_type": "pyout",
       "prompt_number": 90,
       "text": [
        "3483"
       ]
      }
     ],
     "prompt_number": 90
    },
    {
     "cell_type": "code",
     "collapsed": false,
     "input": [
      "tag_i = 0 #10090\n",
      "print 'for \"{}\":'.format(tag_names[tag_i])\n",
      "for tag_j, weight in sorted(weighted_dice_similarities[tag_i].iteritems(), key=itemgetter(1), reverse=True):\n",
      "    print ' ', tag_names[tag_j], tag_j, weight"
     ],
     "language": "python",
     "metadata": {},
     "outputs": [
      {
       "output_type": "stream",
       "stream": "stdout",
       "text": [
        "for \"electronic\":\n",
        "  electronica 4 48\n",
        "  electropop 10 47\n",
        "  trip-hop 250 45\n",
        "  dance 1 42\n",
        "  house 7 42\n",
        "  synthpop 14 40\n",
        "  ambient 141 34\n",
        "  indie pop 23 33\n",
        "  experimental 166 33\n",
        "  downtempo 249 32\n",
        "  electro 2 31\n",
        "  indie 8 29\n",
        "  british 5 28\n",
        "  dubstep 42 22\n",
        "  idm 400 22\n",
        "  swedish 953 21\n",
        "  chillout 94 20\n",
        "  female vocalists 73 18\n",
        "  indietronica 25 17\n",
        "  french 389 17\n",
        "  techno 33 16\n",
        "  instrumental 171 15\n",
        "  dream pop 281 14\n",
        "  chillwave 1927 14\n",
        "  alternative 28 13\n",
        "  psychedelic 217 12\n",
        "  new rave 17 11\n",
        "  hip-hop 154 11\n",
        "  australian 251 11\n",
        "  big beat 398 11\n",
        "  neo-psychedelia 427 11\n",
        "  electro house 19 10\n",
        "  new wave 46 10\n",
        "  indie rock 103 10\n",
        "  german 2796 10\n",
        "  soul 78 9\n",
        "  canadian 1286 9\n",
        "  deep house 495 9\n",
        "  dance-punk 2713 8\n",
        "  female vocalist 252 8\n",
        "  falsetto 437 8\n",
        "  pop 9 7\n",
        "  minimal 560 7\n",
        "  dub 90 7\n",
        "  lo-fi 268 7\n",
        "  instrumental hip-hop 2928 7\n",
        "  radiohead 478 7\n",
        "  disco 3 6\n",
        "  synth pop 13 6\n",
        "  progressive house 22 6\n",
        "  new zealand 559 6\n",
        "  britpop 65 6\n",
        "  post-punk 211 6\n",
        "  powerpop 1223 6\n",
        "  glitch 3578 6\n",
        "  singer-songwriter 35 5\n",
        "  uk garage 548 5\n",
        "  funk 39 5\n",
        "  rock 100 5\n",
        "  post-rock 159 5\n",
        "  dance punk 241 5\n",
        "  lounge 257 5\n",
        "  norwegian 2271 5\n",
        "  industrial 397 5\n",
        "  portland 4364 5\n",
        "  scottish 6 4\n",
        "  electroclash 12 4\n",
        "  electro pop 27 4\n",
        "  80s 32 4\n",
        "  crunk 2567 4\n",
        "  trance 44 4\n",
        "  disco house 62 4\n",
        "  drum and bass 2164 4\n",
        "  future garage 2154 4\n",
        "  danger mouse 6942 4\n",
        "  american 304 4\n",
        "  rnb 334 4\n",
        "  dancehall 386 4\n",
        "  folktronica 422 4\n",
        "  electronic rock 482 4\n",
        "  turntablism 764 4\n",
        "  synth 56 3\n",
        "  hip hop 71 3\n",
        "  steve aoki 13909 3\n",
        "  lady gaga 96 3\n",
        "  alternative rock 101 3\n",
        "  electrofunk 6760 3\n",
        "  classical crossover 2084 3\n",
        "  trap 1682 3\n",
        "  breakbeat 545 3\n",
        "  ninja tune 2564 3\n",
        "  trip hop 256 3\n",
        "  dreamy 265 3\n",
        "  glam rock 830 3\n",
        "  r&b 336 3\n",
        "  shoegaze 894 3\n",
        "  glitch-hop 4783 3\n",
        "  tech house 501 3\n",
        "  icelandic 3063 3\n",
        "  edm 29 2\n",
        "  try 549 2\n",
        "  neo soul 550 2\n",
        "  glo-fi 6310 2\n",
        "  chill 109 2\n",
        "  spanish 643 2\n",
        "  belgian 6280 2\n",
        "  belgium 6282 2\n",
        "  synth indie rock 2712 2\n",
        "  baroque pop 1181 2\n",
        "  united kingdom 162 2\n",
        "  warp 3612 2\n",
        "  danish 6317 2\n",
        "  power pop 722 2\n",
        "  uk funky 2085 2\n",
        "  grime 1262 2\n",
        "  jungle 3625 2\n",
        "  new york 775 2\n",
        "  sylvan esso 9014 2\n",
        "  the postal service 8961 2\n",
        "  krautrock 852 2\n",
        "  post-dubstep 912 2\n",
        "  art pop 421 2\n",
        "  noise pop 2474 2\n",
        "  8-bit 3750 2\n",
        "  selfie 13755 2\n",
        "  instagram 13756 2\n",
        "  gorillaz 1510 2\n",
        "  rave 512 1\n",
        "  dfa 6667 1\n",
        "  uk 16 1\n",
        "  nu-disco 18 1\n",
        "  club 24 1\n",
        "  nu disco 34 1\n",
        "  again 553 1\n",
        "  quiet storm 3337 1\n",
        "  violin 2114 1\n",
        "  humour 4696 1\n",
        "  alternative dance 95 1\n",
        "  cute 618 1\n",
        "  faithless 15979 1\n",
        "  hip-house 2578 1\n",
        "  acid house 2171 1\n",
        "  progressive rock 125 1\n",
        "  kitsune 2715 1\n",
        "  alternative rnb 2215 1\n",
        "  down-tempo 4266 1\n",
        "  classical 172 1\n",
        "  nu jazz 797 1\n",
        "  soundtrack 176 1\n",
        "  prog-rnb 2233 1\n",
        "  post-hardcore 1228 1\n",
        "  garage 219 1\n",
        "  grace chatto 2086 1\n",
        "  to be listened to 2087 1\n",
        "  dnb 3626 1\n",
        "  dutch 3842 1\n",
        "  female vocal 267 1\n",
        "  acid jazz 276 1\n",
        "  eurosonic 2015 6873 1\n",
        "  ethereal 285 1\n",
        "  wonky 2949 1\n",
        "  bpitch control 9018 1\n",
        "  madonna 1592 1\n",
        "  witch house 1934 1\n",
        "  nu-jazz 2905 1\n",
        "  industrial rock 858 1\n",
        "  tropical house 4457 1\n",
        "  dark-pop 1931 1\n",
        "  tech-house 3737 1\n",
        "  the knife 7578 1\n",
        "  funky house 411 1\n",
        "  math rock 428 1\n",
        "  indie electronic 429 1\n",
        "  imogen heap 13751 1\n",
        "  all 449 1\n",
        "  moby 3034 1\n",
        "  thom yorke 480 1\n",
        "  new age 2214 1\n",
        "  ed banger 7143 1\n",
        "  space disco 7148 1\n",
        "  brostep 3572 1\n"
       ]
      }
     ],
     "prompt_number": 93
    },
    {
     "cell_type": "heading",
     "level": 4,
     "metadata": {},
     "source": [
      "persist to disk"
     ]
    },
    {
     "cell_type": "code",
     "collapsed": false,
     "input": [
      "with open('data.proc/tag_similarities.csv', 'w') as f:\n",
      "    for tag_i, tag_j_similarity in weighted_dice_similarities.iteritems():\n",
      "        for tag_j, similarity in tag_j_similarity.iteritems():\n",
      "            f.write(\",\".join(map(str, (tag_i, tag_j, similarity))))\n",
      "            f.write('\\n')"
     ],
     "language": "python",
     "metadata": {},
     "outputs": [],
     "prompt_number": 94
    },
    {
     "cell_type": "code",
     "collapsed": false,
     "input": [
      "with codecs.open('data.proc/artists', 'w', encoding='utf-8') as f:\n",
      "    for artist_name in artist_names:\n",
      "        f.write(artist_name)\n",
      "        f.write('\\n')"
     ],
     "language": "python",
     "metadata": {},
     "outputs": [],
     "prompt_number": 112
    },
    {
     "cell_type": "code",
     "collapsed": false,
     "input": [
      "with codecs.open('data.proc/tags', 'w', encoding='utf-8') as f:\n",
      "    for tag_name in tag_names:\n",
      "        f.write(tag_name)\n",
      "        f.write('\\n')"
     ],
     "language": "python",
     "metadata": {},
     "outputs": [],
     "prompt_number": 113
    },
    {
     "cell_type": "code",
     "collapsed": false,
     "input": [],
     "language": "python",
     "metadata": {},
     "outputs": []
    }
   ],
   "metadata": {}
  }
 ]
}